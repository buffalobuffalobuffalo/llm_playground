{
 "cells": [
  {
   "cell_type": "markdown",
   "id": "29aa5913-a050-4165-bf8d-2c43a0fe6e5d",
   "metadata": {},
   "source": [
    "## Together AI API "
   ]
  },
  {
   "cell_type": "code",
   "execution_count": 1,
   "id": "6ce3a707-85cf-46f4-8526-217243d7c797",
   "metadata": {},
   "outputs": [],
   "source": [
    "import together"
   ]
  },
  {
   "cell_type": "code",
   "execution_count": 2,
   "id": "099b2490-2f8b-40ba-9a83-2d20431de7d9",
   "metadata": {},
   "outputs": [],
   "source": [
    "together.api_key = ''"
   ]
  },
  {
   "cell_type": "markdown",
   "id": "2c2fa6df-1fbb-43fb-9b00-ceeeaddf07c5",
   "metadata": {},
   "source": [
    "## Select Model"
   ]
  },
  {
   "cell_type": "code",
   "execution_count": 3,
   "id": "a5d1866e-18ba-4d71-ae27-8cad8fceb6e8",
   "metadata": {},
   "outputs": [
    {
     "name": "stdout",
     "output_type": "stream",
     "text": [
      "117 models available\n"
     ]
    },
    {
     "data": {
      "text/plain": [
       "['Austism/chronos-hermes-13b',\n",
       " 'DiscoResearch/DiscoLM-mixtral-8x7b-v2',\n",
       " 'EleutherAI/llemma_7b',\n",
       " 'Gryphe/MythoMax-L2-13b',\n",
       " 'Meta-Llama/Llama-Guard-7b',\n",
       " 'Nexusflow/NexusRaven-V2-13B',\n",
       " 'NousResearch/Nous-Capybara-7B-V1p9',\n",
       " 'NousResearch/Nous-Hermes-Llama2-13b',\n",
       " 'NousResearch/Nous-Hermes-Llama2-70b',\n",
       " 'NousResearch/Nous-Hermes-llama-2-7b']"
      ]
     },
     "execution_count": 3,
     "metadata": {},
     "output_type": "execute_result"
    }
   ],
   "source": [
    "# see available models\n",
    "model_list = together.Models.list()\n",
    "\n",
    "print(f\"{len(model_list)} models available\")\n",
    "\n",
    "# print the first 10 models on the menu\n",
    "model_names = [model_dict['name'] for model_dict in model_list]\n",
    "model_names[:10]"
   ]
  },
  {
   "cell_type": "markdown",
   "id": "cebd213b-ceaf-46c9-a2ce-322cd8792133",
   "metadata": {},
   "source": [
    "## Pull up Mistral Models"
   ]
  },
  {
   "cell_type": "code",
   "execution_count": 4,
   "id": "5566f49b-c3f1-413d-b5cc-e0afd6f90533",
   "metadata": {},
   "outputs": [
    {
     "data": {
      "text/plain": [
       "['Open-Orca/Mistral-7B-OpenOrca',\n",
       " 'mistralai/Mistral-7B-Instruct-v0.1',\n",
       " 'mistralai/Mistral-7B-v0.1',\n",
       " 'mistralai/Mixtral-8x7B-Instruct-v0.1',\n",
       " 'teknium/OpenHermes-2-Mistral-7B',\n",
       " 'teknium/OpenHermes-2p5-Mistral-7B',\n",
       " 'mistralai/Mixtral-8x7B-v0.1']"
      ]
     },
     "execution_count": 4,
     "metadata": {},
     "output_type": "execute_result"
    }
   ],
   "source": [
    "[x for x in model_names if 'mistral' in x.lower()]"
   ]
  },
  {
   "cell_type": "code",
   "execution_count": 5,
   "id": "7bc9964c-be49-48f9-8026-45970b4dcb84",
   "metadata": {},
   "outputs": [],
   "source": [
    "model_to_use='mistralai/Mixtral-8x7B-Instruct-v0.1'"
   ]
  },
  {
   "cell_type": "code",
   "execution_count": 6,
   "id": "8ab5e1f3-e845-4bb7-8644-03002a670a3b",
   "metadata": {},
   "outputs": [
    {
     "name": "stdout",
     "output_type": "stream",
     "text": [
      "The best Christmas song of the 21st Century is subjective and depends on personal preference. However, a popular choice among many is \"All I Want for Christmas Is You\" by Mariah Carey, which was released in 1994 but gained significant popularity in the 21st century. Other notable songs include \"Underneath the Arches\" by Josh Groban and \"Where Are You Christmas?\" by Faith Hill.\n"
     ]
    }
   ],
   "source": [
    "output = together.Complete.create(\n",
    "  prompt = \"<human>: What is the best christmas song of the 21st Century?\\n<bot>:\", \n",
    "  model = model_to_use, \n",
    "  max_tokens = 256,\n",
    "  temperature = 0.8,\n",
    "  top_k = 60,\n",
    "  top_p = 0.6,\n",
    "  repetition_penalty = 1.1,\n",
    "  stop = ['<human>', '\\n\\n']\n",
    ")\n",
    "\n",
    "# print generated text\n",
    "print(output['output']['choices'][0]['text'])"
   ]
  },
  {
   "cell_type": "markdown",
   "id": "59932a29-4c62-4ffc-817d-b34c2f2ee2e2",
   "metadata": {},
   "source": [
    "## Try Image Models"
   ]
  },
  {
   "cell_type": "code",
   "execution_count": 7,
   "id": "fa41211f-269a-448e-a91c-07e8354d9901",
   "metadata": {},
   "outputs": [],
   "source": [
    "import base64\n",
    "\n",
    "# generate image \n",
    "response = together.Image.create(prompt=\"Jolly snowman\")\n",
    "\n",
    "# save the first image\n",
    "image = response[\"output\"][\"choices\"][0]\n",
    "with open(\"snowman.png\", \"wb\") as f:\n",
    "    f.write(base64.b64decode(image[\"image_base64\"]))"
   ]
  },
  {
   "cell_type": "markdown",
   "id": "7e178618-efd5-45f2-a42a-90ded72a1fde",
   "metadata": {},
   "source": [
    "## Didn't really work"
   ]
  }
 ],
 "metadata": {
  "kernelspec": {
   "display_name": "Python 3 (ipykernel)",
   "language": "python",
   "name": "python3"
  },
  "language_info": {
   "codemirror_mode": {
    "name": "ipython",
    "version": 3
   },
   "file_extension": ".py",
   "mimetype": "text/x-python",
   "name": "python",
   "nbconvert_exporter": "python",
   "pygments_lexer": "ipython3",
   "version": "3.8.10"
  }
 },
 "nbformat": 4,
 "nbformat_minor": 5
}
