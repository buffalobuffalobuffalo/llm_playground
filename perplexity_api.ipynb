{
 "cells": [
  {
   "cell_type": "markdown",
   "id": "f5c5b661-2a44-444e-acdf-aa22d9e57cc6",
   "metadata": {},
   "source": [
    "# Perplexity LLM API\n",
    "- [blog post introducing it](https://blog.perplexity.ai/blog/introducing-pplx-api)\n",
    "- [api docs](https://docs.perplexity.ai/docs)\n",
    "- [quickstart for chat completions](https://docs.perplexity.ai/reference/post_chat_completions)\n",
    "- available models\n",
    "    - codellama-34b-instruct, 16384\n",
    "    - llama-2-70b-chat, 4096\t\n",
    "    - mistral-7b-instruct, 4096\t\n",
    "    - pplx-7b-chat, 8192\t\n",
    "    - pplx-70b-chat, 4096\t\n",
    "    - pplx-7b-online, 4096\t\n",
    "    - pplx-70b-online, 4096\t"
   ]
  },
  {
   "cell_type": "code",
   "execution_count": 1,
   "id": "c4739bfc-0218-47ca-8fbb-223a2dd9a714",
   "metadata": {},
   "outputs": [],
   "source": [
    "import openai\n",
    "import os\n",
    "import pandas as pd\n",
    "import numpy as np"
   ]
  },
  {
   "cell_type": "code",
   "execution_count": 2,
   "id": "560dba30-d91e-4fb4-9443-6968e1b414f2",
   "metadata": {},
   "outputs": [],
   "source": [
    "## TODO not sourcing from bashrc, investigate why\n",
    "#PERPLEXITY_API_KEY = os.environ.get('PERPLEXITY_API_KEY')"
   ]
  },
  {
   "cell_type": "code",
   "execution_count": 22,
   "id": "12416faf-7dd7-4515-826f-f331b95be181",
   "metadata": {},
   "outputs": [],
   "source": [
    "PERPLEXITY_API_KEY=''"
   ]
  },
  {
   "cell_type": "markdown",
   "id": "ddb1a00d-4ecc-48cd-9df8-0cf7fa0710a3",
   "metadata": {},
   "source": [
    "## Sample Code Structure they provide\n",
    "* I updated the actual prompt though"
   ]
  },
  {
   "cell_type": "code",
   "execution_count": 4,
   "id": "6a740c79-9121-4a37-beae-1c7d1b08625e",
   "metadata": {},
   "outputs": [
    {
     "name": "stdout",
     "output_type": "stream",
     "text": [
      "{\n",
      "  \"id\": \"4abe46d6-fbb2-4825-bde6-07df992c8df2\",\n",
      "  \"model\": \"mistral-7b-instruct\",\n",
      "  \"created\": 7617692,\n",
      "  \"usage\": {\n",
      "    \"prompt_tokens\": 46,\n",
      "    \"completion_tokens\": 89,\n",
      "    \"total_tokens\": 135\n",
      "  },\n",
      "  \"object\": \"chat.completion\",\n",
      "  \"choices\": [\n",
      "    {\n",
      "      \"index\": 0,\n",
      "      \"finish_reason\": \"stop\",\n",
      "      \"message\": {\n",
      "        \"role\": \"assistant\",\n",
      "        \"content\": \"Hello! I'd be happy to help improve your aim at darts. Here are a few simple tricks that you may find helpful:\\n\\n1. First and foremost, it's important to hold the dart properly. Hold it with your dominant hand and make sure that the point of the dart is facing forward. Use your non-dominant hand to steady the dart as you release it.\\n2. ...\"\n",
      "      },\n",
      "      \"delta\": {\n",
      "        \"role\": \"assistant\",\n",
      "        \"content\": \"\"\n",
      "      }\n",
      "    }\n",
      "  ]\n",
      "}\n"
     ]
    }
   ],
   "source": [
    "messages = [\n",
    "    {\n",
    "        \"role\": \"system\",\n",
    "        \"content\": (\n",
    "            \"You are an artificial intelligence assistant and you need to \"\n",
    "            \"engage in a helpful, detailed, polite conversation with a user.\"\n",
    "        ),\n",
    "    },\n",
    "    {\n",
    "        \"role\": \"user\",\n",
    "        \"content\": (\n",
    "            \"What are some simple tricks to improve my aim at darts?\"\n",
    "        ),\n",
    "    },\n",
    "]\n",
    "\n",
    "# demo chat completion without streaming\n",
    "response = openai.ChatCompletion.create(\n",
    "    model=\"mistral-7b-instruct\",\n",
    "    messages=messages,\n",
    "    api_base=\"https://api.perplexity.ai\",\n",
    "    api_key=PERPLEXITY_API_KEY,\n",
    ")\n",
    "print(response)"
   ]
  },
  {
   "cell_type": "markdown",
   "id": "b478202b-758a-4d0b-aacd-59acd1b18906",
   "metadata": {},
   "source": [
    "## Streaming Example"
   ]
  },
  {
   "cell_type": "code",
   "execution_count": 5,
   "id": "cfc0a744-5f5d-4d98-851d-dee372a9f040",
   "metadata": {},
   "outputs": [],
   "source": [
    "# # demo chat completion with streaming\n",
    "# response_stream = openai.ChatCompletion.create(\n",
    "#     model=\"mistral-7b-instruct\",\n",
    "#     messages=messages,\n",
    "#     api_base=\"https://api.perplexity.ai\",\n",
    "#     api_key=PERPLEXITY_API_KEY,\n",
    "#     stream=True, #BE CAREFUL WITH THIS\n",
    "# )\n",
    "# for response in response_stream:\n",
    "#     print(response)"
   ]
  },
  {
   "cell_type": "markdown",
   "id": "cdf656e1-377c-4358-90e0-b6370f38542f",
   "metadata": {},
   "source": [
    "## Only print the response message"
   ]
  },
  {
   "cell_type": "code",
   "execution_count": 6,
   "id": "4753974f-5468-4f5c-90bd-14f98699b4db",
   "metadata": {},
   "outputs": [
    {
     "data": {
      "text/plain": [
       "\"Hello! I'd be happy to help improve your aim at darts. Here are a few simple tricks that you may find helpful:\\n\\n1. First and foremost, it's important to hold the dart properly. Hold it with your dominant hand and make sure that the point of the dart is facing forward. Use your non-dominant hand to steady the dart as you release it.\\n2. ...\""
      ]
     },
     "execution_count": 6,
     "metadata": {},
     "output_type": "execute_result"
    }
   ],
   "source": [
    "response['choices'][0]['message']['content']"
   ]
  },
  {
   "cell_type": "markdown",
   "id": "8e8af300-8b7e-40ef-9596-5185e62fb583",
   "metadata": {},
   "source": [
    "## Quick Math on Current Pricing"
   ]
  },
  {
   "cell_type": "code",
   "execution_count": 7,
   "id": "275c79f6-654d-488c-b5b0-c6c424d49d13",
   "metadata": {},
   "outputs": [],
   "source": [
    "pricing = pd.read_csv('pricing_for_perplexity_api.csv')"
   ]
  },
  {
   "cell_type": "code",
   "execution_count": 8,
   "id": "f50e8b61-6246-408c-ba21-de081443e3f7",
   "metadata": {},
   "outputs": [
    {
     "data": {
      "text/html": [
       "<div>\n",
       "<style scoped>\n",
       "    .dataframe tbody tr th:only-of-type {\n",
       "        vertical-align: middle;\n",
       "    }\n",
       "\n",
       "    .dataframe tbody tr th {\n",
       "        vertical-align: top;\n",
       "    }\n",
       "\n",
       "    .dataframe thead th {\n",
       "        text-align: right;\n",
       "    }\n",
       "</style>\n",
       "<table border=\"1\" class=\"dataframe\">\n",
       "  <thead>\n",
       "    <tr style=\"text-align: right;\">\n",
       "      <th></th>\n",
       "      <th>model_parameter_count</th>\n",
       "      <th>per1m_input_tokens</th>\n",
       "      <th>per1m_output_tokens</th>\n",
       "    </tr>\n",
       "  </thead>\n",
       "  <tbody>\n",
       "    <tr>\n",
       "      <th>0</th>\n",
       "      <td>7B</td>\n",
       "      <td>$0.07</td>\n",
       "      <td>$0.28</td>\n",
       "    </tr>\n",
       "    <tr>\n",
       "      <th>1</th>\n",
       "      <td>13B</td>\n",
       "      <td>$0.14</td>\n",
       "      <td>$0.56</td>\n",
       "    </tr>\n",
       "    <tr>\n",
       "      <th>2</th>\n",
       "      <td>34B</td>\n",
       "      <td>$0.35</td>\n",
       "      <td>$1.40</td>\n",
       "    </tr>\n",
       "    <tr>\n",
       "      <th>3</th>\n",
       "      <td>70B</td>\n",
       "      <td>$0.70</td>\n",
       "      <td>$2.80</td>\n",
       "    </tr>\n",
       "  </tbody>\n",
       "</table>\n",
       "</div>"
      ],
      "text/plain": [
       "  model_parameter_count per1m_input_tokens per1m_output_tokens\n",
       "0                    7B              $0.07               $0.28\n",
       "1                   13B              $0.14               $0.56\n",
       "2                   34B              $0.35               $1.40\n",
       "3                   70B              $0.70               $2.80"
      ]
     },
     "execution_count": 8,
     "metadata": {},
     "output_type": "execute_result"
    }
   ],
   "source": [
    "pricing"
   ]
  },
  {
   "cell_type": "code",
   "execution_count": 9,
   "id": "8bb295c8-4ecb-49c2-be3e-d355da4d3f7f",
   "metadata": {},
   "outputs": [],
   "source": [
    "pricing['per1m_input_tokens'] = pricing['per1m_input_tokens'].str.replace('$', '').astype(float)\n",
    "pricing['per1m_output_tokens'] = pricing['per1m_output_tokens'].str.replace('$', '').astype(float)"
   ]
  },
  {
   "cell_type": "code",
   "execution_count": 10,
   "id": "32b5bd97-d2d3-4922-8786-2956fc56610d",
   "metadata": {},
   "outputs": [
    {
     "data": {
      "text/html": [
       "<div>\n",
       "<style scoped>\n",
       "    .dataframe tbody tr th:only-of-type {\n",
       "        vertical-align: middle;\n",
       "    }\n",
       "\n",
       "    .dataframe tbody tr th {\n",
       "        vertical-align: top;\n",
       "    }\n",
       "\n",
       "    .dataframe thead th {\n",
       "        text-align: right;\n",
       "    }\n",
       "</style>\n",
       "<table border=\"1\" class=\"dataframe\">\n",
       "  <thead>\n",
       "    <tr style=\"text-align: right;\">\n",
       "      <th></th>\n",
       "      <th>model_parameter_count</th>\n",
       "      <th>per1m_input_tokens</th>\n",
       "      <th>per1m_output_tokens</th>\n",
       "    </tr>\n",
       "  </thead>\n",
       "  <tbody>\n",
       "    <tr>\n",
       "      <th>0</th>\n",
       "      <td>7B</td>\n",
       "      <td>0.07</td>\n",
       "      <td>0.28</td>\n",
       "    </tr>\n",
       "    <tr>\n",
       "      <th>1</th>\n",
       "      <td>13B</td>\n",
       "      <td>0.14</td>\n",
       "      <td>0.56</td>\n",
       "    </tr>\n",
       "    <tr>\n",
       "      <th>2</th>\n",
       "      <td>34B</td>\n",
       "      <td>0.35</td>\n",
       "      <td>1.40</td>\n",
       "    </tr>\n",
       "    <tr>\n",
       "      <th>3</th>\n",
       "      <td>70B</td>\n",
       "      <td>0.70</td>\n",
       "      <td>2.80</td>\n",
       "    </tr>\n",
       "  </tbody>\n",
       "</table>\n",
       "</div>"
      ],
      "text/plain": [
       "  model_parameter_count  per1m_input_tokens  per1m_output_tokens\n",
       "0                    7B                0.07                 0.28\n",
       "1                   13B                0.14                 0.56\n",
       "2                   34B                0.35                 1.40\n",
       "3                   70B                0.70                 2.80"
      ]
     },
     "execution_count": 10,
     "metadata": {},
     "output_type": "execute_result"
    }
   ],
   "source": [
    "pricing"
   ]
  },
  {
   "cell_type": "code",
   "execution_count": 20,
   "id": "031124c9-d76a-4c95-bfbb-fb4565524c93",
   "metadata": {},
   "outputs": [],
   "source": [
    "def cost_of_message(response,pricing=pricing):\n",
    "    'return the cost of the individual message in USD'\n",
    "    model_type = response['model'].split('-')[-2].upper()\n",
    "    input_tokens = response['usage']['prompt_tokens']\n",
    "    output_tokens = response['usage']['completion_tokens']\n",
    "\n",
    "    input_rate = pricing[pricing.model_parameter_count == model_type].per1m_input_tokens\n",
    "    output_rate = pricing[pricing.model_parameter_count == model_type].per1m_output_tokens\n",
    "\n",
    "    input_cost = input_tokens * input_rate / 1_000_000\n",
    "    output_cost = output_tokens * output_rate / 1_000_000\n",
    "\n",
    "    cost = input_cost + output_cost\n",
    "    return cost"
   ]
  },
  {
   "cell_type": "code",
   "execution_count": 21,
   "id": "52e386dd-7823-4b76-8596-61ee2929ac85",
   "metadata": {},
   "outputs": [
    {
     "data": {
      "text/plain": [
       "0    0.000028\n",
       "dtype: float64"
      ]
     },
     "execution_count": 21,
     "metadata": {},
     "output_type": "execute_result"
    }
   ],
   "source": [
    "cost_of_message(response=response,pricing=pricing)"
   ]
  }
 ],
 "metadata": {
  "kernelspec": {
   "display_name": "Python 3 (ipykernel)",
   "language": "python",
   "name": "python3"
  },
  "language_info": {
   "codemirror_mode": {
    "name": "ipython",
    "version": 3
   },
   "file_extension": ".py",
   "mimetype": "text/x-python",
   "name": "python",
   "nbconvert_exporter": "python",
   "pygments_lexer": "ipython3",
   "version": "3.8.10"
  }
 },
 "nbformat": 4,
 "nbformat_minor": 5
}
