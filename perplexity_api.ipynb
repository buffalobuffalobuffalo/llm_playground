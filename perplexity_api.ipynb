{
 "cells": [
  {
   "cell_type": "markdown",
   "id": "f5c5b661-2a44-444e-acdf-aa22d9e57cc6",
   "metadata": {},
   "source": [
    "# Perplexity LLM API\n",
    "- [blog post introducing it](https://blog.perplexity.ai/blog/introducing-pplx-api)\n",
    "- [api docs](https://docs.perplexity.ai/docs)\n",
    "- [quickstart for chat completions](https://docs.perplexity.ai/reference/post_chat_completions)\n",
    "- available models\n",
    "    - codellama-34b-instruct, 16384\n",
    "    - llama-2-70b-chat, 4096\t\n",
    "    - mistral-7b-instruct, 4096\t\n",
    "    - pplx-7b-chat, 8192\t\n",
    "    - pplx-70b-chat, 4096\t\n",
    "    - pplx-7b-online, 4096\t\n",
    "    - pplx-70b-online, 4096\t"
   ]
  },
  {
   "cell_type": "code",
   "execution_count": 46,
   "id": "c4739bfc-0218-47ca-8fbb-223a2dd9a714",
   "metadata": {},
   "outputs": [],
   "source": [
    "import openai\n",
    "import os\n",
    "import pandas as pd\n",
    "import numpy as np\n",
    "from pathlib import Path\n",
    "from openai import OpenAI\n",
    "\n",
    "from langchain.embeddings import HuggingFaceEmbeddings\n",
    "from langchain.vectorstores import FAISS\n",
    "from langchain.text_splitter import RecursiveCharacterTextSplitter\n",
    "from sentence_transformers import SentenceTransformer\n",
    "from langchain.document_loaders import UnstructuredMarkdownLoader\n",
    "from langchain.document_loaders import TextLoader"
   ]
  },
  {
   "cell_type": "code",
   "execution_count": 47,
   "id": "560dba30-d91e-4fb4-9443-6968e1b414f2",
   "metadata": {},
   "outputs": [],
   "source": [
    "## TODO not sourcing from bashrc, investigate why\n",
    "#PERPLEXITY_API_KEY = os.environ.get('PERPLEXITY_API_KEY')"
   ]
  },
  {
   "cell_type": "code",
   "execution_count": 37,
   "id": "12416faf-7dd7-4515-826f-f331b95be181",
   "metadata": {},
   "outputs": [],
   "source": [
    "#PERPLEXITY_API_KEY=''"
   ]
  },
  {
   "cell_type": "markdown",
   "id": "ea4f52dc-6381-4b11-b59c-f8045332361d",
   "metadata": {},
   "source": [
    "## Supported Models\n",
    "- as of 2023-12-13\n",
    "```\n",
    "Model\tContext Length\tModel Type\n",
    "codellama-34b-instruct\t16384\tChat Completion\n",
    "llama-2-70b-chat\t4096\tChat Completion\n",
    "mistral-7b-instruct\t4096 [1]\tChat Completion\n",
    "mixtral-8x7b-instruct\t4096 [1]\tChat Completion\n",
    "pplx-7b-chat\t8192\tChat Completion\n",
    "pplx-70b-chat\t4096\tChat Completion\n",
    "pplx-7b-online\t4096\tChat Completion\n",
    "pplx-70b-online\t4096\tChat Completion\n",
    "```"
   ]
  },
  {
   "cell_type": "markdown",
   "id": "ddb1a00d-4ecc-48cd-9df8-0cf7fa0710a3",
   "metadata": {},
   "source": [
    "## Sample Code Structure they provide\n",
    "* I updated the actual prompt though"
   ]
  },
  {
   "cell_type": "code",
   "execution_count": 48,
   "id": "58bb91bd-61c4-49d0-b4b4-014e4b8bc385",
   "metadata": {},
   "outputs": [],
   "source": [
    "client = OpenAI(base_url=\"https://api.perplexity.ai\",\n",
    "               api_key=PERPLEXITY_API_KEY)"
   ]
  },
  {
   "cell_type": "code",
   "execution_count": 49,
   "id": "6a740c79-9121-4a37-beae-1c7d1b08625e",
   "metadata": {},
   "outputs": [
    {
     "name": "stdout",
     "output_type": "stream",
     "text": [
      "ChatCompletion(id='ef6cc842-2221-463e-8cfa-762bf8d92906', choices=[Choice(finish_reason='stop', index=0, message=ChatCompletionMessage(content=\"I'm glad you've asked about improving your aim in darts! Darts is a fun and challenging game that requires both precision and consistency. Here are some simple tricks that might help you improve your aim:\\n\\n1. Proper Grip: Hold the dart firmly with your dominant hand while keeping your other hand for stabilization. Make sure your fingers are curled around the dart with the tips pointing towards the front.\\n2. Correct Stance: Stand with your feet shoulder-width apart, knees slightly bent, and your dominant foot slightly in front of the other. This helps maintain balance and control.\\n3. Correct Posture: Keep your back straight, chest out, and head up. Make sure your throwing arm is relaxed and straight, and your non-dominant arm is extended for support.\\n4. Focus on Your Target: Concentrate on the area of the dartboard you want to hit. It's important to keep your eyes fixed on the target throughout the throw.\\n5. Proper Breathing: Take a deep breath before throwing the dart. Hold the breath during the throw, then exhale after releasing the dart.\\n6. Practice Consistency: Try to throw the dart consistently with the same motion and release every time. This will help improve your accuracy and build muscle memory.\\n7. Use Visualization: Imagine the dart hitting the target before you throw it. This can help improve your focus and accuracy.\\n8. Proper Equipment: Make sure you have good quality darts with the right weight and grip for your hand. Also, ensure that the dartboard is properly installed and in good condition.\\n\\nRemember, practice is key to improving your aim in darts. The more you play, the more you'll develop the muscle memory and skill necessary to hit your target consistently. Good luck and have fun\", role='assistant', function_call=None, tool_calls=None), delta={'role': 'assistant', 'content': ''})], created=8912765, model='mistral-7b-instruct', object='chat.completion', system_fingerprint=None, usage=CompletionUsage(completion_tokens=394, prompt_tokens=46, total_tokens=440))\n"
     ]
    }
   ],
   "source": [
    "messages = [\n",
    "    {\n",
    "        \"role\": \"system\",\n",
    "        \"content\": (\n",
    "            \"You are an artificial intelligence assistant and you need to \"\n",
    "            \"engage in a helpful, detailed, polite conversation with a user.\"\n",
    "        ),\n",
    "    },\n",
    "    {\n",
    "        \"role\": \"user\",\n",
    "        \"content\": (\n",
    "            \"What are some simple tricks to improve my aim at darts?\"\n",
    "        ),\n",
    "    },\n",
    "]\n",
    "\n",
    "# demo chat completion without streaming'\n",
    "\n",
    "response = client.chat.completions.create(\n",
    "    model=\"mistral-7b-instruct\",\n",
    "    messages=messages,\n",
    ")\n",
    "print(response)"
   ]
  },
  {
   "cell_type": "code",
   "execution_count": 50,
   "id": "29ea0107-32b2-4566-9657-dd0395a51db8",
   "metadata": {},
   "outputs": [
    {
     "data": {
      "text/plain": [
       "openai.types.chat.chat_completion.ChatCompletion"
      ]
     },
     "execution_count": 50,
     "metadata": {},
     "output_type": "execute_result"
    }
   ],
   "source": [
    "type(response)"
   ]
  },
  {
   "cell_type": "code",
   "execution_count": 55,
   "id": "5a0fd159-b0ed-4be9-b213-a476d20f8414",
   "metadata": {},
   "outputs": [
    {
     "data": {
      "text/plain": [
       "ChatCompletion(id='ef6cc842-2221-463e-8cfa-762bf8d92906', choices=[Choice(finish_reason='stop', index=0, message=ChatCompletionMessage(content=\"I'm glad you've asked about improving your aim in darts! Darts is a fun and challenging game that requires both precision and consistency. Here are some simple tricks that might help you improve your aim:\\n\\n1. Proper Grip: Hold the dart firmly with your dominant hand while keeping your other hand for stabilization. Make sure your fingers are curled around the dart with the tips pointing towards the front.\\n2. Correct Stance: Stand with your feet shoulder-width apart, knees slightly bent, and your dominant foot slightly in front of the other. This helps maintain balance and control.\\n3. Correct Posture: Keep your back straight, chest out, and head up. Make sure your throwing arm is relaxed and straight, and your non-dominant arm is extended for support.\\n4. Focus on Your Target: Concentrate on the area of the dartboard you want to hit. It's important to keep your eyes fixed on the target throughout the throw.\\n5. Proper Breathing: Take a deep breath before throwing the dart. Hold the breath during the throw, then exhale after releasing the dart.\\n6. Practice Consistency: Try to throw the dart consistently with the same motion and release every time. This will help improve your accuracy and build muscle memory.\\n7. Use Visualization: Imagine the dart hitting the target before you throw it. This can help improve your focus and accuracy.\\n8. Proper Equipment: Make sure you have good quality darts with the right weight and grip for your hand. Also, ensure that the dartboard is properly installed and in good condition.\\n\\nRemember, practice is key to improving your aim in darts. The more you play, the more you'll develop the muscle memory and skill necessary to hit your target consistently. Good luck and have fun\", role='assistant', function_call=None, tool_calls=None), delta={'role': 'assistant', 'content': ''})], created=8912765, model='mistral-7b-instruct', object='chat.completion', system_fingerprint=None, usage=CompletionUsage(completion_tokens=394, prompt_tokens=46, total_tokens=440))"
      ]
     },
     "execution_count": 55,
     "metadata": {},
     "output_type": "execute_result"
    }
   ],
   "source": [
    "response"
   ]
  },
  {
   "cell_type": "markdown",
   "id": "cdf656e1-377c-4358-90e0-b6370f38542f",
   "metadata": {},
   "source": [
    "## Only print the response message"
   ]
  },
  {
   "cell_type": "code",
   "execution_count": 57,
   "id": "4753974f-5468-4f5c-90bd-14f98699b4db",
   "metadata": {},
   "outputs": [
    {
     "data": {
      "text/plain": [
       "\"I'm glad you've asked about improving your aim in darts! Darts is a fun and challenging game that requires both precision and consistency. Here are some simple tricks that might help you improve your aim:\\n\\n1. Proper Grip: Hold the dart firmly with your dominant hand while keeping your other hand for stabilization. Make sure your fingers are curled around the dart with the tips pointing towards the front.\\n2. Correct Stance: Stand with your feet shoulder-width apart, knees slightly bent, and your dominant foot slightly in front of the other. This helps maintain balance and control.\\n3. Correct Posture: Keep your back straight, chest out, and head up. Make sure your throwing arm is relaxed and straight, and your non-dominant arm is extended for support.\\n4. Focus on Your Target: Concentrate on the area of the dartboard you want to hit. It's important to keep your eyes fixed on the target throughout the throw.\\n5. Proper Breathing: Take a deep breath before throwing the dart. Hold the breath during the throw, then exhale after releasing the dart.\\n6. Practice Consistency: Try to throw the dart consistently with the same motion and release every time. This will help improve your accuracy and build muscle memory.\\n7. Use Visualization: Imagine the dart hitting the target before you throw it. This can help improve your focus and accuracy.\\n8. Proper Equipment: Make sure you have good quality darts with the right weight and grip for your hand. Also, ensure that the dartboard is properly installed and in good condition.\\n\\nRemember, practice is key to improving your aim in darts. The more you play, the more you'll develop the muscle memory and skill necessary to hit your target consistently. Good luck and have fun\""
      ]
     },
     "execution_count": 57,
     "metadata": {},
     "output_type": "execute_result"
    }
   ],
   "source": [
    "response.choices[0].message.content"
   ]
  },
  {
   "cell_type": "markdown",
   "id": "8e8af300-8b7e-40ef-9596-5185e62fb583",
   "metadata": {},
   "source": [
    "## Quick Math on Current Pricing"
   ]
  },
  {
   "cell_type": "code",
   "execution_count": 58,
   "id": "275c79f6-654d-488c-b5b0-c6c424d49d13",
   "metadata": {},
   "outputs": [],
   "source": [
    "pricing = pd.read_csv('pricing_for_perplexity_api.csv')"
   ]
  },
  {
   "cell_type": "code",
   "execution_count": 59,
   "id": "f50e8b61-6246-408c-ba21-de081443e3f7",
   "metadata": {},
   "outputs": [
    {
     "data": {
      "text/html": [
       "<div>\n",
       "<style scoped>\n",
       "    .dataframe tbody tr th:only-of-type {\n",
       "        vertical-align: middle;\n",
       "    }\n",
       "\n",
       "    .dataframe tbody tr th {\n",
       "        vertical-align: top;\n",
       "    }\n",
       "\n",
       "    .dataframe thead th {\n",
       "        text-align: right;\n",
       "    }\n",
       "</style>\n",
       "<table border=\"1\" class=\"dataframe\">\n",
       "  <thead>\n",
       "    <tr style=\"text-align: right;\">\n",
       "      <th></th>\n",
       "      <th>model_parameter_count</th>\n",
       "      <th>per1m_input_tokens</th>\n",
       "      <th>per1m_output_tokens</th>\n",
       "    </tr>\n",
       "  </thead>\n",
       "  <tbody>\n",
       "    <tr>\n",
       "      <th>0</th>\n",
       "      <td>7B</td>\n",
       "      <td>$0.07</td>\n",
       "      <td>$0.28</td>\n",
       "    </tr>\n",
       "    <tr>\n",
       "      <th>1</th>\n",
       "      <td>13B</td>\n",
       "      <td>$0.14</td>\n",
       "      <td>$0.56</td>\n",
       "    </tr>\n",
       "    <tr>\n",
       "      <th>2</th>\n",
       "      <td>34B</td>\n",
       "      <td>$0.35</td>\n",
       "      <td>$1.40</td>\n",
       "    </tr>\n",
       "    <tr>\n",
       "      <th>3</th>\n",
       "      <td>70B</td>\n",
       "      <td>$0.70</td>\n",
       "      <td>$2.80</td>\n",
       "    </tr>\n",
       "  </tbody>\n",
       "</table>\n",
       "</div>"
      ],
      "text/plain": [
       "  model_parameter_count per1m_input_tokens per1m_output_tokens\n",
       "0                    7B              $0.07               $0.28\n",
       "1                   13B              $0.14               $0.56\n",
       "2                   34B              $0.35               $1.40\n",
       "3                   70B              $0.70               $2.80"
      ]
     },
     "execution_count": 59,
     "metadata": {},
     "output_type": "execute_result"
    }
   ],
   "source": [
    "pricing"
   ]
  },
  {
   "cell_type": "code",
   "execution_count": 60,
   "id": "8bb295c8-4ecb-49c2-be3e-d355da4d3f7f",
   "metadata": {},
   "outputs": [],
   "source": [
    "pricing['per1m_input_tokens'] = pricing['per1m_input_tokens'].str.replace('$', '').astype(float)\n",
    "pricing['per1m_output_tokens'] = pricing['per1m_output_tokens'].str.replace('$', '').astype(float)"
   ]
  },
  {
   "cell_type": "code",
   "execution_count": 61,
   "id": "32b5bd97-d2d3-4922-8786-2956fc56610d",
   "metadata": {},
   "outputs": [
    {
     "data": {
      "text/html": [
       "<div>\n",
       "<style scoped>\n",
       "    .dataframe tbody tr th:only-of-type {\n",
       "        vertical-align: middle;\n",
       "    }\n",
       "\n",
       "    .dataframe tbody tr th {\n",
       "        vertical-align: top;\n",
       "    }\n",
       "\n",
       "    .dataframe thead th {\n",
       "        text-align: right;\n",
       "    }\n",
       "</style>\n",
       "<table border=\"1\" class=\"dataframe\">\n",
       "  <thead>\n",
       "    <tr style=\"text-align: right;\">\n",
       "      <th></th>\n",
       "      <th>model_parameter_count</th>\n",
       "      <th>per1m_input_tokens</th>\n",
       "      <th>per1m_output_tokens</th>\n",
       "    </tr>\n",
       "  </thead>\n",
       "  <tbody>\n",
       "    <tr>\n",
       "      <th>0</th>\n",
       "      <td>7B</td>\n",
       "      <td>0.07</td>\n",
       "      <td>0.28</td>\n",
       "    </tr>\n",
       "    <tr>\n",
       "      <th>1</th>\n",
       "      <td>13B</td>\n",
       "      <td>0.14</td>\n",
       "      <td>0.56</td>\n",
       "    </tr>\n",
       "    <tr>\n",
       "      <th>2</th>\n",
       "      <td>34B</td>\n",
       "      <td>0.35</td>\n",
       "      <td>1.40</td>\n",
       "    </tr>\n",
       "    <tr>\n",
       "      <th>3</th>\n",
       "      <td>70B</td>\n",
       "      <td>0.70</td>\n",
       "      <td>2.80</td>\n",
       "    </tr>\n",
       "  </tbody>\n",
       "</table>\n",
       "</div>"
      ],
      "text/plain": [
       "  model_parameter_count  per1m_input_tokens  per1m_output_tokens\n",
       "0                    7B                0.07                 0.28\n",
       "1                   13B                0.14                 0.56\n",
       "2                   34B                0.35                 1.40\n",
       "3                   70B                0.70                 2.80"
      ]
     },
     "execution_count": 61,
     "metadata": {},
     "output_type": "execute_result"
    }
   ],
   "source": [
    "pricing"
   ]
  },
  {
   "cell_type": "code",
   "execution_count": 87,
   "id": "031124c9-d76a-4c95-bfbb-fb4565524c93",
   "metadata": {},
   "outputs": [],
   "source": [
    "def cost_of_message(response,pricing=pricing):\n",
    "    'return the cost of the individual message in USD'\n",
    "    model_type = response.model.split('-')[-2].upper()\n",
    "    input_tokens = response.usage.prompt_tokens\n",
    "    output_tokens = response.usage.completion_tokens\n",
    "\n",
    "    input_rate = pricing[pricing.model_parameter_count == model_type].per1m_input_tokens\n",
    "    output_rate = pricing[pricing.model_parameter_count == model_type].per1m_output_tokens\n",
    "\n",
    "    input_cost = input_tokens * input_rate / 1_000_000\n",
    "    output_cost = output_tokens * output_rate / 1_000_000\n",
    "\n",
    "    cost = input_cost + output_cost\n",
    "    return cost"
   ]
  },
  {
   "cell_type": "code",
   "execution_count": 88,
   "id": "52e386dd-7823-4b76-8596-61ee2929ac85",
   "metadata": {},
   "outputs": [
    {
     "data": {
      "text/plain": [
       "0    0.000114\n",
       "dtype: float64"
      ]
     },
     "execution_count": 88,
     "metadata": {},
     "output_type": "execute_result"
    }
   ],
   "source": [
    "cost_of_message(response=response,\n",
    "                pricing=pricing)"
   ]
  },
  {
   "cell_type": "code",
   "execution_count": 89,
   "id": "9c1e8cf1-12c6-4108-b26d-440d691ef528",
   "metadata": {},
   "outputs": [],
   "source": [
    "system_prompt = {\n",
    "    'role': 'system',\n",
    "     'content': 'You are an artificial intelligence assistant and you need to engage in a helpful, detailed, polite conversation with a user.'\n",
    "    }"
   ]
  },
  {
   "cell_type": "markdown",
   "id": "ff97844d-d168-4e83-aea8-d3f9cc051be9",
   "metadata": {},
   "source": [
    "## Function to get answers"
   ]
  },
  {
   "cell_type": "code",
   "execution_count": null,
   "id": "c88224a6-0718-474a-8888-2e697a1d1e9e",
   "metadata": {},
   "outputs": [],
   "source": [
    "client = OpenAI(base_url=\"https://api.perplexity.ai\",\n",
    "               api_key=PERPLEXITY_API_KEY)"
   ]
  },
  {
   "cell_type": "code",
   "execution_count": 102,
   "id": "d92c76d2-d440-4c5e-993c-80176cadb1ca",
   "metadata": {},
   "outputs": [],
   "source": [
    "def ask_ppl(question,\n",
    "            system_prompt=system_prompt,\n",
    "            max_tokens=2048, \n",
    "            model=\"mistral-7b-instruct\",\n",
    "           client=client):\n",
    "\n",
    "    user_prompt = {\n",
    "        \"role\": \"user\",\n",
    "        \"content\": (\n",
    "           question\n",
    "        ),\n",
    "    }\n",
    "\n",
    "    message= [\n",
    "            system_prompt,\n",
    "            user_prompt\n",
    "        ]\n",
    "    \n",
    "    response = client.chat.completions.create(\n",
    "                                                model=model,\n",
    "                                                messages=message,\n",
    "                                                max_tokens=max_tokens\n",
    "                                            )\n",
    "\n",
    "    return response.choices[0].message.content"
   ]
  },
  {
   "cell_type": "markdown",
   "id": "5ea5b60c-2034-4d3c-a27b-3b76002162a2",
   "metadata": {},
   "source": [
    "## Test Function"
   ]
  },
  {
   "cell_type": "code",
   "execution_count": 103,
   "id": "93eebdb6-d1d9-4fd7-a781-594f80d72371",
   "metadata": {},
   "outputs": [],
   "source": [
    "max_tokens = 2048\n",
    "model='mistral-7b-instruct'"
   ]
  },
  {
   "cell_type": "code",
   "execution_count": 104,
   "id": "fc748325-e3cd-4b06-ba71-9c4eff1d8915",
   "metadata": {},
   "outputs": [],
   "source": [
    "models = [\n",
    "    'codellama-34b-instruct',\n",
    "    'llama-2-70b-chat',\n",
    "    'mistral-7b-instruct',\n",
    "    'pplx-7b-chat',\n",
    "    'pplx-70b-chat',\n",
    "]"
   ]
  },
  {
   "cell_type": "code",
   "execution_count": 105,
   "id": "09929308-ef7b-42f3-8800-06e35e9f1f00",
   "metadata": {},
   "outputs": [],
   "source": [
    "model = models[1]"
   ]
  },
  {
   "cell_type": "markdown",
   "id": "5922f93c-340c-4a34-a5a9-591d53431ecf",
   "metadata": {},
   "source": [
    "## Compare Model Answers"
   ]
  },
  {
   "cell_type": "code",
   "execution_count": 106,
   "id": "aede3a6c-b51d-4250-b016-50dde48a64c7",
   "metadata": {},
   "outputs": [],
   "source": [
    "question = 'who in your estimation are the most influential computer scientists of the 21st century?'"
   ]
  },
  {
   "cell_type": "code",
   "execution_count": null,
   "id": "a030db12-cfe2-48e8-b5a5-1f6773107a43",
   "metadata": {},
   "outputs": [],
   "source": [
    "model_answers = {}\n",
    "\n",
    "for model in models:\n",
    "    print(f'Asking {model}')\n",
    "    answer = ask_ppl(question=question, model=model, client=client)\n",
    "    model_answers[model] = answer"
   ]
  },
  {
   "cell_type": "code",
   "execution_count": 110,
   "id": "dc7c5318-5787-42f7-881c-79dad25e07b1",
   "metadata": {},
   "outputs": [
    {
     "data": {
      "text/plain": [
       "dict_keys(['codellama-34b-instruct'])"
      ]
     },
     "execution_count": 110,
     "metadata": {},
     "output_type": "execute_result"
    }
   ],
   "source": [
    "model_answers.keys()"
   ]
  },
  {
   "cell_type": "code",
   "execution_count": 111,
   "id": "266a19f7-67e6-4043-b8b4-40ae05e49db0",
   "metadata": {},
   "outputs": [
    {
     "data": {
      "text/plain": [
       "'There have been many influential computer scientists in the 21st century who have made significant contributions to the field. Some of the most influential computer scientists of the 21st century include:\\n\\n1. Alan Turing: Known as the father of computer science and artificial intelligence, Alan Turing made fundamental contributions to the fields of computer science, mathematics, and philosophy.\\n2. Tim Berners-Lee: Tim Berners-Lee is credited with inventing the World Wide Web and is considered the father of the internet. He is also a noted computer scientist and engineer.\\n3. Marvin Minsky: Marvin Minsky was a influential computer scientist and cognitive scientist who made significant contributions to the fields of artificial intelligence, neural networks, and cognitive science.\\n4. Andrew Ng: Andrew Ng is a computer scientist and entrepreneur who has made significant contributions to the fields of artificial intelligence and machine learning. He is also the founder of Coursera and deeplearning.ai.\\n5. Yann LeCun: Yann LeCun is a computer scientist and the director of AI Research at Facebook. He is also the Silver Professor of Computer Science at New York University, and a professor at the Courant Institute of Mathematical Sciences. He is one of the founding researchers of convolutional neural networks (CNNs), and was a founding member of the image-recognition startup, Numenta'"
      ]
     },
     "execution_count": 111,
     "metadata": {},
     "output_type": "execute_result"
    }
   ],
   "source": [
    "model_answers['codellama-34b-instruct']"
   ]
  },
  {
   "cell_type": "markdown",
   "id": "dba4b512-51c0-4daa-a65d-e62505250b4e",
   "metadata": {},
   "source": [
    "# Use as a RAG"
   ]
  },
  {
   "cell_type": "markdown",
   "id": "70338347-47e6-4826-8ead-27c9b617bb77",
   "metadata": {},
   "source": [
    "## Embed Articles from The Last Psychiatrist"
   ]
  },
  {
   "cell_type": "code",
   "execution_count": 112,
   "id": "80f8513d-19c0-4f5f-822e-cc6562483e30",
   "metadata": {},
   "outputs": [],
   "source": [
    "# use tiny model for embeddings\n",
    "model_id = \"sentence-transformers/all-MiniLM-L6-v2\"\n",
    "embeddings = HuggingFaceEmbeddings(model_name=model_id)"
   ]
  },
  {
   "cell_type": "code",
   "execution_count": 113,
   "id": "38b22833-3a61-46e3-a648-2a8ccd7f1b47",
   "metadata": {},
   "outputs": [],
   "source": [
    "# Load text data from a file using TextLoader\n",
    "loader = TextLoader('data/who_can_know_how_much_randi_zu.txt')\n",
    "documents = loader.load()"
   ]
  },
  {
   "cell_type": "code",
   "execution_count": 114,
   "id": "76b11cc3-0c51-4702-99f2-3c144f532b42",
   "metadata": {},
   "outputs": [],
   "source": [
    "# format it for processing by embedding model\n",
    "text_splitter = RecursiveCharacterTextSplitter(chunk_size=1000, chunk_overlap=50)\n",
    "text_chunks = text_splitter.split_documents(documents)"
   ]
  },
  {
   "cell_type": "code",
   "execution_count": 115,
   "id": "22680c56-34da-43c8-a1ae-b6a3941af6e6",
   "metadata": {},
   "outputs": [],
   "source": [
    "vectorstore_of_docs = FAISS.from_documents(text_chunks, embedding=embeddings)"
   ]
  },
  {
   "cell_type": "markdown",
   "id": "3ab8ba54-a1a4-4252-ae7d-605124dc7f02",
   "metadata": {},
   "source": [
    "## Function to prep docs for encoding"
   ]
  },
  {
   "cell_type": "code",
   "execution_count": 116,
   "id": "18506a7d-35ae-4b58-9258-5edf37e98762",
   "metadata": {},
   "outputs": [],
   "source": [
    "def load_text_files_for_encoding(file_names, dir):\n",
    "    documents = []\n",
    "    for text_file in file_names:\n",
    "        loader = TextLoader(str(directory) + '/' + text_file)\n",
    "        documents.extend(loader.load())\n",
    "    \n",
    "    text_splitter = RecursiveCharacterTextSplitter(chunk_size=1000, chunk_overlap=50)\n",
    "    chunked_documents = text_splitter.split_documents(documents)\n",
    "\n",
    "    return chunked_documents"
   ]
  },
  {
   "cell_type": "markdown",
   "id": "a7d2d47c-bc8e-41a1-98b3-9d5cce546bc8",
   "metadata": {},
   "source": [
    "## Encoding a bunch of documents"
   ]
  },
  {
   "cell_type": "code",
   "execution_count": 117,
   "id": "40944da1-3adf-4129-9892-b08fd1d33307",
   "metadata": {},
   "outputs": [],
   "source": [
    "directory = Path('/home/nick/Documents/repos/llm_playground/data')\n",
    "\n",
    "file_names = [file.name for file in directory.glob('*.txt')]\n",
    "\n",
    "chunked_documents = load_text_files_for_encoding(file_names, directory)"
   ]
  },
  {
   "cell_type": "code",
   "execution_count": 118,
   "id": "ddafef5c-7f5c-4425-a5f9-f4d9aad8f3e8",
   "metadata": {},
   "outputs": [],
   "source": [
    "vectorstore_of_docs = FAISS.from_documents(chunked_documents, embedding=embeddings)"
   ]
  },
  {
   "cell_type": "markdown",
   "id": "57ae3064-6635-46cc-92d4-173174400d94",
   "metadata": {},
   "source": [
    "## Test the embeddings"
   ]
  },
  {
   "cell_type": "code",
   "execution_count": 119,
   "id": "83982074-c824-49ff-96e1-c1d2884346cd",
   "metadata": {},
   "outputs": [],
   "source": [
    "related_text = vectorstore_of_docs.similarity_search('narcissism',top_k=3)"
   ]
  },
  {
   "cell_type": "code",
   "execution_count": 120,
   "id": "273d15a3-dbd8-487e-afec-bacb3dbd1f8e",
   "metadata": {},
   "outputs": [
    {
     "data": {
      "text/plain": [
       "[Document(page_content=\"who like her-- the people she has to settle for-- are... not great.Genetics took care of her body but the upbringing affected her vision: the childhood of never good enough filters her present reality, obscures it, she can't see what is plain to everyone else, e.g. she's beautiful. So the process is to uncover the reasons why her view of reality is distorted and help her realign with reality. Use insight to strengthen her damaged ego, or, if you want a ten step approach, block automatic thoughts. In short, to understand that she is good, that men do find her attractive, not just the brazen ones, not just jerks.IV.If you think of narcissism as grandiosity you miss the nuances, e.g. in her case the problem is narcissism without any grandiosity: she is so consumed with her identity (as not pretty) that she is not able to read, to empathize with, other people's feelings. She doesn't care to try because it conflicts with how she sees herself. Ergo: Giorgio Armani was just being nice.I\", metadata={'source': '/home/nick/Documents/repos/llm_playground/data/just_because_you_see_it_doesnt.txt'}),\n",
       " Document(page_content='interesting thing about addictions-- include gambling and sex and internet and \"dangerous behaviors\" and whatever else you want-- is that they all share something in common.\\xa0 Allegedly this thing is dopaminergic pathways to the striatum and etc, but saying that gets you nothing.\\xa0 It\\'s astounding that the layperson chooses to think in these terms which though they are true are utterly meaningless, utterly unactionable, until you remember, oh, of course, in narcissism believing something is preferable to doing something because the former is about you and the latter is about everyone else.Slightly off topic but here\\'s an important example: say you yell every day at an/your eight year old girl for sloppy homework, admittedly a terrible thing to do but not uncommon, and eventually she thinks, \"I\\'m terrible at everything\" and gives up, so the standard interpretation of this is that she has lost self-confidence, she\\'s been demoralized, and case by case you may be right, but there\\'s another', metadata={'source': '/home/nick/Documents/repos/llm_playground/data/amy_schumer_offers_you_a_look.txt'}),\n",
       " Document(page_content=\"so far?\\xa0 Do you think you've understood?You heard the story, you heard the words, but your mind unheard it and replaced it with something else.\\xa0 Even after I tell you this, you'll have trouble remembering it. You think Narcissus was so in love with himself that he couldn't love anyone else.\\xa0 But that's not what happened, the story clearly tells it in the reverse: he never loved anyone and then he fell in love with himself.\\xa0 Do you see?\\xa0 Because he never loved anyone, he fell in love with himself.\\xa0\\xa0 That was Narcissus's punishment.\\xa0 You thought Narcissus rejected all those people because he was in love with himself, but he rejected them all before he loved himself.\\xa0 Loved himself?\\xa0 Do you think Narcissus rejected them because he thought he was better than them?\\xa0 Or better looking?\\xa0 How would he have known he was so beautiful?\\xa0 He didn't even recognize his own reflection!\\xa0 He rejected all those people because they loved him. IV.You thought nemesis meant enemy, you thought it meant the\", metadata={'source': '/home/nick/Documents/repos/llm_playground/data/the_story_of_narcissus.txt'}),\n",
       " Document(page_content='the woods, ensuring that he\\'d someday have cause to do it.\\xa0\\xa0\\xa0 And so when Narcissus\\'s parents heard the requirements for their child\\'s long life... they would have done everything possible to ensure that he didn\\'t know himself.No one knows what Liriope and Cephisus did, but whatever they did, it worked: he didn\\'t even recognize his own reflection.\\xa0 That\\'s a man who doesn\\'t know himself. That\\'s a man who never had to look at himself from the outside.How do you make a child know himself?\\xa0 You surround him with mirrors. \"This is what everyone else sees when you do what you do.\\xa0 This is who everyone thinks you are.\"You cause him to be tested: this is the kind of person you are, you are good at this but not that. This other person is better than you at this, but not better than you at that.\\xa0 These are the limits by which you are defined.\\xa0\\xa0 Narcissus was never allowed to meet real danger, glory, struggle, honor, success, failure; only artificial versions manipulated by his parents.\\xa0\\xa0 He was', metadata={'source': '/home/nick/Documents/repos/llm_playground/data/the_story_of_narcissus.txt'})]"
      ]
     },
     "execution_count": 120,
     "metadata": {},
     "output_type": "execute_result"
    }
   ],
   "source": [
    "related_text"
   ]
  },
  {
   "cell_type": "markdown",
   "id": "9bb634f6-85bb-4fd0-8fe3-ac87c36ee047",
   "metadata": {},
   "source": [
    "## Ask Question with Context"
   ]
  },
  {
   "cell_type": "code",
   "execution_count": 121,
   "id": "8810d42e-2eea-445f-af53-d1190a9f2b74",
   "metadata": {},
   "outputs": [],
   "source": [
    "def ask_ppl(question,\n",
    "            system_prompt=system_prompt,\n",
    "            max_tokens=2048, \n",
    "            model=\"mistral-7b-instruct\",\n",
    "            client=client,\n",
    "           context=False,\n",
    "           top_k=5,\n",
    "           vectorstore=False):\n",
    "    'Ask the perplexity api a question, with or without context, using whichever model you prefer'\n",
    "\n",
    "    if context == True:\n",
    "        # find relevant text and add it to question\n",
    "        related_text = vectorstore.similarity_search(question,top_k)\n",
    "        context = ' / '.join([related_text[i].page_content for i in range(top_k)])\n",
    "        files_used = ','.join(set([related_text[i].metadata['source'] for i in range(top_k)]))\n",
    "        context_string = f'{context} || from the files {files_used}'\n",
    "        # update question string\n",
    "        question =  f'''Use the following pieces of context to answer the question at the end. \n",
    "            Try to make the response brief and only answer the portion after Question:\n",
    "            Do not refer to the text from this prompt outside of the context.\n",
    "            Structure your answers as well composed english sentences and do not include '\\n'\n",
    "            \n",
    "            {context_string}\n",
    "            \n",
    "            Question: {question}\n",
    "            Answer: '''\n",
    "\n",
    "    user_prompt = {\n",
    "        \"role\": \"user\",\n",
    "        \"content\": (\n",
    "           question\n",
    "        ),\n",
    "    }\n",
    "    \n",
    "    message= [\n",
    "            system_prompt,\n",
    "            user_prompt\n",
    "        ]\n",
    "    \n",
    "    response=client.chat.completions.create(\n",
    "                                                    model=model,\n",
    "                                                    messages=message,\n",
    "                                                    max_tokens=max_tokens\n",
    "                                                )\n",
    "\n",
    "    return response.choices[0].message.content"
   ]
  },
  {
   "cell_type": "code",
   "execution_count": 122,
   "id": "b28df2c6-44b0-4d26-a5de-1ca502f976db",
   "metadata": {},
   "outputs": [],
   "source": [
    "test_query = 'Why is Randi Zuckerberg well known?'"
   ]
  },
  {
   "cell_type": "code",
   "execution_count": 123,
   "id": "f66c4a12-396b-465d-b60d-94e978d5f318",
   "metadata": {},
   "outputs": [
    {
     "data": {
      "text/plain": [
       "'Randi Zuckerberg is a well-known entrepreneur, technology innovator, and media executive. She is the older sister of Mark Zuckerberg, the founder and CEO of Facebook. Randi joined Facebook in its early days, first working as a marketing manager and later becoming the company\\'s director of market development. While at Facebook, she developed the idea for a live-streaming product, which later became Facebook Live.\\n\\nAfter leaving Facebook in 2011, Randi founded RtoZ Media, a production company that produces videos for digital and television platforms. She also hosts a daily business news program on SiriusXM radio called \"Dot Complicated with Randi Zuckerberg.\" Additionally, she\\'s an accomplished singer and has released several albums.\\n\\nRandi is a frequent speaker at events focused on technology, media, and entrepreneurship. She often shares her insights and experiences on various stages and in interviews, making her a prominent figure in these industries. Her unique background, talents, and contributions have made her a well-known public figure'"
      ]
     },
     "execution_count": 123,
     "metadata": {},
     "output_type": "execute_result"
    }
   ],
   "source": [
    "ask_ppl(test_query)"
   ]
  },
  {
   "cell_type": "code",
   "execution_count": 124,
   "id": "8c8aac58-b5cc-4829-8635-58da8f400c9a",
   "metadata": {},
   "outputs": [
    {
     "data": {
      "text/plain": [
       "'Randi Zuckerberg is well known due to her relation to Mark Zuckerberg, her brother, and her work as the CEO of Zuckerberg Media. She has also given numerous interviews, written a book about social media, and has spoken at events like TEDx and the World Economic Forum. However, some criticize her fame as being largely due to nepotism'"
      ]
     },
     "execution_count": 124,
     "metadata": {},
     "output_type": "execute_result"
    }
   ],
   "source": [
    "ask_ppl(question=test_query,\n",
    "            system_prompt=system_prompt,\n",
    "            max_tokens=2048, \n",
    "            model=\"mistral-7b-instruct\",\n",
    "           context=True,\n",
    "           top_k=5,\n",
    "       vectorstore=vectorstore_of_docs)"
   ]
  },
  {
   "cell_type": "code",
   "execution_count": 128,
   "id": "7f6cd294-ec50-4fb5-b6f6-9c5036f098b1",
   "metadata": {},
   "outputs": [
    {
     "data": {
      "text/plain": [
       "'Randi Zuckerberg is well known because she is the CEO of Zuckerberg Media and the sister of Mark Zuckerberg, the co-founder of Facebook. She has also written a book about social media, given many interviews, and attended events like the World Economic Forum, which has contributed to her fame.'"
      ]
     },
     "execution_count": 128,
     "metadata": {},
     "output_type": "execute_result"
    }
   ],
   "source": [
    "ask_ppl(question=test_query,\n",
    "            system_prompt=system_prompt,\n",
    "            max_tokens=2048, \n",
    "            model='mixtral-8x7b-instruct',\n",
    "           context=True,\n",
    "           top_k=5,\n",
    "       vectorstore=vectorstore_of_docs)"
   ]
  },
  {
   "cell_type": "code",
   "execution_count": 129,
   "id": "f2be584e-daa6-44ea-a87d-03f91c06825e",
   "metadata": {},
   "outputs": [],
   "source": [
    "test_query_2 = \"what is narcissism, according to the Last Psychiatrist?\""
   ]
  },
  {
   "cell_type": "code",
   "execution_count": 130,
   "id": "0e773d70-2fe8-407a-aab7-7e8a75b73cae",
   "metadata": {},
   "outputs": [
    {
     "data": {
      "text/plain": [
       "'In the context provided by \"The Last Psychiatrist,\" narcissism is a personality disorder characterized by identity preservation and an inability to see things from other people\\'s perspectives. The author emphasizes the difficulty in treating narcissism due to these traits, which make admitting one\\'s problem and acknowledging others\\' perspectives nearly impossible. Additionally, they suggest that a narcissistic person may never have truly known themselves due to being shielded from real experiences and challenges in childhood'"
      ]
     },
     "execution_count": 130,
     "metadata": {},
     "output_type": "execute_result"
    }
   ],
   "source": [
    "ask_ppl(question=test_query_2,\n",
    "            system_prompt=system_prompt,\n",
    "            max_tokens=2048, \n",
    "            model=\"mistral-7b-instruct\",\n",
    "           context=True,\n",
    "           top_k=5,\n",
    "       vectorstore=vectorstore_of_docs)"
   ]
  },
  {
   "cell_type": "code",
   "execution_count": 131,
   "id": "b6dc44cd-2432-4a91-b36b-d3c2f5a4c601",
   "metadata": {},
   "outputs": [
    {
     "data": {
      "text/plain": [
       "\"According to The Last Psychiatrist, narcissism is a personality disorder characterized by identity preservation and an inability to see things from others' perspectives. It's not about self-love, but rather a lack of ability to love others, which eventually leads to self-absorption. The narcissist's identity is tied to maintaining their self-image and avoiding guilt or objective reality that doesn't comply with their mirroring demands. Narcissism develops when a child is not allowed to know themselves through real-life experiences, but instead, is sheltered and surrounded by manipulated situations.\""
      ]
     },
     "execution_count": 131,
     "metadata": {},
     "output_type": "execute_result"
    }
   ],
   "source": [
    "ask_ppl(question=test_query_2,\n",
    "            system_prompt=system_prompt,\n",
    "            max_tokens=2048, \n",
    "            model='mixtral-8x7b-instruct',\n",
    "           context=True,\n",
    "           top_k=5,\n",
    "       vectorstore=vectorstore_of_docs)"
   ]
  },
  {
   "cell_type": "code",
   "execution_count": 132,
   "id": "ec6c22d4-f63a-48da-b75b-22d77e339716",
   "metadata": {},
   "outputs": [],
   "source": [
    "test_query_3 = \"if everything is a defense against actually changing, what does Alone think people should do?\""
   ]
  },
  {
   "cell_type": "code",
   "execution_count": 133,
   "id": "deca0a5a-67e8-41fa-b137-995158065647",
   "metadata": {},
   "outputs": [
    {
     "data": {
      "text/plain": [
       "'Alone does not explicitly suggest what people should do in the context provided. However, the text implies that Alone encourages thinking critically about the motivations behind change and questioning the roles we play in perpetuating the status quo. Additionally, the text suggests that meaningful change may not be achievable through relying on external sources like media or activist groups. Instead, one might consider taking personal actions to effect change in their own lives and communities'"
      ]
     },
     "execution_count": 133,
     "metadata": {},
     "output_type": "execute_result"
    }
   ],
   "source": [
    "ask_ppl(question=test_query_3,\n",
    "            system_prompt=system_prompt,\n",
    "            max_tokens=2048, \n",
    "            model=\"mistral-7b-instruct\",\n",
    "           context=True,\n",
    "           top_k=5,\n",
    "       vectorstore=vectorstore_of_docs)"
   ]
  },
  {
   "cell_type": "code",
   "execution_count": 136,
   "id": "1ae121fe-e6f4-460d-ad50-c1d12bff449f",
   "metadata": {},
   "outputs": [
    {
     "data": {
      "text/plain": [
       "\"Alone suggests that people should strive for critical thinking and independence of thought, in order to see through the system's attempts to control them. This means questioning the information they receive, seeking out diverse perspectives, and not blindly adhering to any one ideology or viewpoint. By doing so, individuals can better understand the world around them and make informed decisions, rather than being manipulated by the status quo.\""
      ]
     },
     "execution_count": 136,
     "metadata": {},
     "output_type": "execute_result"
    }
   ],
   "source": [
    "ask_ppl(question=test_query_3,\n",
    "            system_prompt=system_prompt,\n",
    "            max_tokens=2048, \n",
    "            model='mixtral-8x7b-instruct',\n",
    "           context=True,\n",
    "           top_k=5,\n",
    "       vectorstore=vectorstore_of_docs)"
   ]
  }
 ],
 "metadata": {
  "kernelspec": {
   "display_name": "Python 3 (ipykernel)",
   "language": "python",
   "name": "python3"
  },
  "language_info": {
   "codemirror_mode": {
    "name": "ipython",
    "version": 3
   },
   "file_extension": ".py",
   "mimetype": "text/x-python",
   "name": "python",
   "nbconvert_exporter": "python",
   "pygments_lexer": "ipython3",
   "version": "3.8.10"
  }
 },
 "nbformat": 4,
 "nbformat_minor": 5
}
