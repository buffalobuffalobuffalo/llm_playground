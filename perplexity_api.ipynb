{
 "cells": [
  {
   "cell_type": "markdown",
   "id": "f5c5b661-2a44-444e-acdf-aa22d9e57cc6",
   "metadata": {},
   "source": [
    "# Perplexity LLM API\n",
    "- [blog post introducing it](https://blog.perplexity.ai/blog/introducing-pplx-api)\n",
    "- [api docs](https://docs.perplexity.ai/docs)\n",
    "- [quickstart for chat completions](https://docs.perplexity.ai/reference/post_chat_completions)\n",
    "- available models\n",
    "    - codellama-34b-instruct, 16384\n",
    "    - llama-2-70b-chat, 4096\t\n",
    "    - mistral-7b-instruct, 4096\t\n",
    "    - pplx-7b-chat, 8192\t\n",
    "    - pplx-70b-chat, 4096\t\n",
    "    - pplx-7b-online, 4096\t\n",
    "    - pplx-70b-online, 4096\t"
   ]
  },
  {
   "cell_type": "code",
   "execution_count": 1,
   "id": "c4739bfc-0218-47ca-8fbb-223a2dd9a714",
   "metadata": {},
   "outputs": [],
   "source": [
    "import openai\n",
    "import os\n",
    "import pandas as pd\n",
    "import numpy as np"
   ]
  },
  {
   "cell_type": "code",
   "execution_count": 2,
   "id": "560dba30-d91e-4fb4-9443-6968e1b414f2",
   "metadata": {},
   "outputs": [],
   "source": [
    "## TODO not sourcing from bashrc, investigate why\n",
    "#PERPLEXITY_API_KEY = os.environ.get('PERPLEXITY_API_KEY')"
   ]
  },
  {
   "cell_type": "code",
   "execution_count": 37,
   "id": "12416faf-7dd7-4515-826f-f331b95be181",
   "metadata": {},
   "outputs": [],
   "source": [
    "PERPLEXITY_API_KEY=''"
   ]
  },
  {
   "cell_type": "markdown",
   "id": "ddb1a00d-4ecc-48cd-9df8-0cf7fa0710a3",
   "metadata": {},
   "source": [
    "## Sample Code Structure they provide\n",
    "* I updated the actual prompt though"
   ]
  },
  {
   "cell_type": "code",
   "execution_count": 4,
   "id": "6a740c79-9121-4a37-beae-1c7d1b08625e",
   "metadata": {},
   "outputs": [
    {
     "name": "stdout",
     "output_type": "stream",
     "text": [
      "{\n",
      "  \"id\": \"4abe46d6-fbb2-4825-bde6-07df992c8df2\",\n",
      "  \"model\": \"mistral-7b-instruct\",\n",
      "  \"created\": 7617692,\n",
      "  \"usage\": {\n",
      "    \"prompt_tokens\": 46,\n",
      "    \"completion_tokens\": 89,\n",
      "    \"total_tokens\": 135\n",
      "  },\n",
      "  \"object\": \"chat.completion\",\n",
      "  \"choices\": [\n",
      "    {\n",
      "      \"index\": 0,\n",
      "      \"finish_reason\": \"stop\",\n",
      "      \"message\": {\n",
      "        \"role\": \"assistant\",\n",
      "        \"content\": \"Hello! I'd be happy to help improve your aim at darts. Here are a few simple tricks that you may find helpful:\\n\\n1. First and foremost, it's important to hold the dart properly. Hold it with your dominant hand and make sure that the point of the dart is facing forward. Use your non-dominant hand to steady the dart as you release it.\\n2. ...\"\n",
      "      },\n",
      "      \"delta\": {\n",
      "        \"role\": \"assistant\",\n",
      "        \"content\": \"\"\n",
      "      }\n",
      "    }\n",
      "  ]\n",
      "}\n"
     ]
    }
   ],
   "source": [
    "messages = [\n",
    "    {\n",
    "        \"role\": \"system\",\n",
    "        \"content\": (\n",
    "            \"You are an artificial intelligence assistant and you need to \"\n",
    "            \"engage in a helpful, detailed, polite conversation with a user.\"\n",
    "        ),\n",
    "    },\n",
    "    {\n",
    "        \"role\": \"user\",\n",
    "        \"content\": (\n",
    "            \"What are some simple tricks to improve my aim at darts?\"\n",
    "        ),\n",
    "    },\n",
    "]\n",
    "\n",
    "# demo chat completion without streaming\n",
    "response = openai.ChatCompletion.create(\n",
    "    model=\"mistral-7b-instruct\",\n",
    "    messages=messages,\n",
    "    api_base=\"https://api.perplexity.ai\",\n",
    "    api_key=PERPLEXITY_API_KEY,\n",
    ")\n",
    "print(response)"
   ]
  },
  {
   "cell_type": "markdown",
   "id": "b478202b-758a-4d0b-aacd-59acd1b18906",
   "metadata": {},
   "source": [
    "## Streaming Example"
   ]
  },
  {
   "cell_type": "code",
   "execution_count": 5,
   "id": "cfc0a744-5f5d-4d98-851d-dee372a9f040",
   "metadata": {},
   "outputs": [],
   "source": [
    "# # demo chat completion with streaming\n",
    "# response_stream = openai.ChatCompletion.create(\n",
    "#     model=\"mistral-7b-instruct\",\n",
    "#     messages=messages,\n",
    "#     api_base=\"https://api.perplexity.ai\",\n",
    "#     api_key=PERPLEXITY_API_KEY,\n",
    "#     stream=True, #BE CAREFUL WITH THIS\n",
    "# )\n",
    "# for response in response_stream:\n",
    "#     print(response)"
   ]
  },
  {
   "cell_type": "markdown",
   "id": "cdf656e1-377c-4358-90e0-b6370f38542f",
   "metadata": {},
   "source": [
    "## Only print the response message"
   ]
  },
  {
   "cell_type": "code",
   "execution_count": 6,
   "id": "4753974f-5468-4f5c-90bd-14f98699b4db",
   "metadata": {},
   "outputs": [
    {
     "data": {
      "text/plain": [
       "\"Hello! I'd be happy to help improve your aim at darts. Here are a few simple tricks that you may find helpful:\\n\\n1. First and foremost, it's important to hold the dart properly. Hold it with your dominant hand and make sure that the point of the dart is facing forward. Use your non-dominant hand to steady the dart as you release it.\\n2. ...\""
      ]
     },
     "execution_count": 6,
     "metadata": {},
     "output_type": "execute_result"
    }
   ],
   "source": [
    "response['choices'][0]['message']['content']"
   ]
  },
  {
   "cell_type": "markdown",
   "id": "8e8af300-8b7e-40ef-9596-5185e62fb583",
   "metadata": {},
   "source": [
    "## Quick Math on Current Pricing"
   ]
  },
  {
   "cell_type": "code",
   "execution_count": 7,
   "id": "275c79f6-654d-488c-b5b0-c6c424d49d13",
   "metadata": {},
   "outputs": [],
   "source": [
    "pricing = pd.read_csv('pricing_for_perplexity_api.csv')"
   ]
  },
  {
   "cell_type": "code",
   "execution_count": 8,
   "id": "f50e8b61-6246-408c-ba21-de081443e3f7",
   "metadata": {},
   "outputs": [
    {
     "data": {
      "text/html": [
       "<div>\n",
       "<style scoped>\n",
       "    .dataframe tbody tr th:only-of-type {\n",
       "        vertical-align: middle;\n",
       "    }\n",
       "\n",
       "    .dataframe tbody tr th {\n",
       "        vertical-align: top;\n",
       "    }\n",
       "\n",
       "    .dataframe thead th {\n",
       "        text-align: right;\n",
       "    }\n",
       "</style>\n",
       "<table border=\"1\" class=\"dataframe\">\n",
       "  <thead>\n",
       "    <tr style=\"text-align: right;\">\n",
       "      <th></th>\n",
       "      <th>model_parameter_count</th>\n",
       "      <th>per1m_input_tokens</th>\n",
       "      <th>per1m_output_tokens</th>\n",
       "    </tr>\n",
       "  </thead>\n",
       "  <tbody>\n",
       "    <tr>\n",
       "      <th>0</th>\n",
       "      <td>7B</td>\n",
       "      <td>$0.07</td>\n",
       "      <td>$0.28</td>\n",
       "    </tr>\n",
       "    <tr>\n",
       "      <th>1</th>\n",
       "      <td>13B</td>\n",
       "      <td>$0.14</td>\n",
       "      <td>$0.56</td>\n",
       "    </tr>\n",
       "    <tr>\n",
       "      <th>2</th>\n",
       "      <td>34B</td>\n",
       "      <td>$0.35</td>\n",
       "      <td>$1.40</td>\n",
       "    </tr>\n",
       "    <tr>\n",
       "      <th>3</th>\n",
       "      <td>70B</td>\n",
       "      <td>$0.70</td>\n",
       "      <td>$2.80</td>\n",
       "    </tr>\n",
       "  </tbody>\n",
       "</table>\n",
       "</div>"
      ],
      "text/plain": [
       "  model_parameter_count per1m_input_tokens per1m_output_tokens\n",
       "0                    7B              $0.07               $0.28\n",
       "1                   13B              $0.14               $0.56\n",
       "2                   34B              $0.35               $1.40\n",
       "3                   70B              $0.70               $2.80"
      ]
     },
     "execution_count": 8,
     "metadata": {},
     "output_type": "execute_result"
    }
   ],
   "source": [
    "pricing"
   ]
  },
  {
   "cell_type": "code",
   "execution_count": 9,
   "id": "8bb295c8-4ecb-49c2-be3e-d355da4d3f7f",
   "metadata": {},
   "outputs": [],
   "source": [
    "pricing['per1m_input_tokens'] = pricing['per1m_input_tokens'].str.replace('$', '').astype(float)\n",
    "pricing['per1m_output_tokens'] = pricing['per1m_output_tokens'].str.replace('$', '').astype(float)"
   ]
  },
  {
   "cell_type": "code",
   "execution_count": 10,
   "id": "32b5bd97-d2d3-4922-8786-2956fc56610d",
   "metadata": {},
   "outputs": [
    {
     "data": {
      "text/html": [
       "<div>\n",
       "<style scoped>\n",
       "    .dataframe tbody tr th:only-of-type {\n",
       "        vertical-align: middle;\n",
       "    }\n",
       "\n",
       "    .dataframe tbody tr th {\n",
       "        vertical-align: top;\n",
       "    }\n",
       "\n",
       "    .dataframe thead th {\n",
       "        text-align: right;\n",
       "    }\n",
       "</style>\n",
       "<table border=\"1\" class=\"dataframe\">\n",
       "  <thead>\n",
       "    <tr style=\"text-align: right;\">\n",
       "      <th></th>\n",
       "      <th>model_parameter_count</th>\n",
       "      <th>per1m_input_tokens</th>\n",
       "      <th>per1m_output_tokens</th>\n",
       "    </tr>\n",
       "  </thead>\n",
       "  <tbody>\n",
       "    <tr>\n",
       "      <th>0</th>\n",
       "      <td>7B</td>\n",
       "      <td>0.07</td>\n",
       "      <td>0.28</td>\n",
       "    </tr>\n",
       "    <tr>\n",
       "      <th>1</th>\n",
       "      <td>13B</td>\n",
       "      <td>0.14</td>\n",
       "      <td>0.56</td>\n",
       "    </tr>\n",
       "    <tr>\n",
       "      <th>2</th>\n",
       "      <td>34B</td>\n",
       "      <td>0.35</td>\n",
       "      <td>1.40</td>\n",
       "    </tr>\n",
       "    <tr>\n",
       "      <th>3</th>\n",
       "      <td>70B</td>\n",
       "      <td>0.70</td>\n",
       "      <td>2.80</td>\n",
       "    </tr>\n",
       "  </tbody>\n",
       "</table>\n",
       "</div>"
      ],
      "text/plain": [
       "  model_parameter_count  per1m_input_tokens  per1m_output_tokens\n",
       "0                    7B                0.07                 0.28\n",
       "1                   13B                0.14                 0.56\n",
       "2                   34B                0.35                 1.40\n",
       "3                   70B                0.70                 2.80"
      ]
     },
     "execution_count": 10,
     "metadata": {},
     "output_type": "execute_result"
    }
   ],
   "source": [
    "pricing"
   ]
  },
  {
   "cell_type": "code",
   "execution_count": 20,
   "id": "031124c9-d76a-4c95-bfbb-fb4565524c93",
   "metadata": {},
   "outputs": [],
   "source": [
    "def cost_of_message(response,pricing=pricing):\n",
    "    'return the cost of the individual message in USD'\n",
    "    model_type = response['model'].split('-')[-2].upper()\n",
    "    input_tokens = response['usage']['prompt_tokens']\n",
    "    output_tokens = response['usage']['completion_tokens']\n",
    "\n",
    "    input_rate = pricing[pricing.model_parameter_count == model_type].per1m_input_tokens\n",
    "    output_rate = pricing[pricing.model_parameter_count == model_type].per1m_output_tokens\n",
    "\n",
    "    input_cost = input_tokens * input_rate / 1_000_000\n",
    "    output_cost = output_tokens * output_rate / 1_000_000\n",
    "\n",
    "    cost = input_cost + output_cost\n",
    "    return cost"
   ]
  },
  {
   "cell_type": "code",
   "execution_count": 21,
   "id": "52e386dd-7823-4b76-8596-61ee2929ac85",
   "metadata": {},
   "outputs": [
    {
     "data": {
      "text/plain": [
       "0    0.000028\n",
       "dtype: float64"
      ]
     },
     "execution_count": 21,
     "metadata": {},
     "output_type": "execute_result"
    }
   ],
   "source": [
    "cost_of_message(response=response,pricing=pricing)"
   ]
  },
  {
   "cell_type": "code",
   "execution_count": 61,
   "id": "9c1e8cf1-12c6-4108-b26d-440d691ef528",
   "metadata": {},
   "outputs": [
    {
     "data": {
      "text/plain": [
       "{'role': 'system',\n",
       " 'content': 'You are an artificial intelligence assistant and you need to engage in a helpful, detailed, polite conversation with a user.'}"
      ]
     },
     "execution_count": 61,
     "metadata": {},
     "output_type": "execute_result"
    }
   ],
   "source": [
    "system_prompt = {\n",
    "    'role': 'system',\n",
    "     'content': 'You are an artificial intelligence assistant and you need to engage in a helpful, detailed, polite conversation with a user.'\n",
    "    }"
   ]
  },
  {
   "cell_type": "markdown",
   "id": "ff97844d-d168-4e83-aea8-d3f9cc051be9",
   "metadata": {},
   "source": [
    "## Function to get answers"
   ]
  },
  {
   "cell_type": "code",
   "execution_count": 52,
   "id": "d92c76d2-d440-4c5e-993c-80176cadb1ca",
   "metadata": {},
   "outputs": [],
   "source": [
    "def ask_ppl(question,\n",
    "            system_prompt=system_prompt,\n",
    "            max_tokens=2048, \n",
    "            model=\"mistral-7b-instruct\",\n",
    "            api_key=PERPLEXITY_API_KEY):\n",
    "\n",
    "    user_prompt = {\n",
    "        \"role\": \"user\",\n",
    "        \"content\": (\n",
    "           question\n",
    "        ),\n",
    "    }\n",
    "\n",
    "    message= [\n",
    "            system_prompt,\n",
    "            user_prompt\n",
    "        ]\n",
    "    response = openai.ChatCompletion.create(\n",
    "        model=model,\n",
    "        messages=message,\n",
    "        max_tokens=max_tokens,\n",
    "        api_base=\"https://api.perplexity.ai\",\n",
    "        api_key=PERPLEXITY_API_KEY,\n",
    "    )\n",
    "\n",
    "    return response['choices'][0]['message']['content']"
   ]
  },
  {
   "cell_type": "code",
   "execution_count": 41,
   "id": "48cafbe4-91d5-486a-ae88-fa53cf834d0b",
   "metadata": {},
   "outputs": [
    {
     "data": {
      "text/plain": [
       "'who in your estimation are the most influential computer scientists of the 21st century?'"
      ]
     },
     "execution_count": 41,
     "metadata": {},
     "output_type": "execute_result"
    }
   ],
   "source": [
    "question"
   ]
  },
  {
   "cell_type": "markdown",
   "id": "6e8ef071-3f5d-4138-b7ff-04f6d4aa80b4",
   "metadata": {},
   "source": [
    "## Test Message Formatting"
   ]
  },
  {
   "cell_type": "code",
   "execution_count": 42,
   "id": "061e8cd2-ac38-40d2-a78a-d9f1465fe615",
   "metadata": {},
   "outputs": [
    {
     "data": {
      "text/plain": [
       "[{'role': 'system',\n",
       "  'content': 'You are an artificial intelligence assistant and you need to engage in a helpful, detailed, polite conversation with a user.'},\n",
       " {'role': 'user',\n",
       "  'content': 'who in your estimation are the most influential computer scientists of the 21st century?'}]"
      ]
     },
     "execution_count": 42,
     "metadata": {},
     "output_type": "execute_result"
    }
   ],
   "source": [
    "user_prompt = {\n",
    "    \"role\": \"user\",\n",
    "    \"content\": (\n",
    "       question\n",
    "    ),\n",
    "}\n",
    "\n",
    "message= [\n",
    "        system_prompt,\n",
    "        user_prompt\n",
    "    ]\n",
    "\n",
    "message"
   ]
  },
  {
   "cell_type": "markdown",
   "id": "5ea5b60c-2034-4d3c-a27b-3b76002162a2",
   "metadata": {},
   "source": [
    "## Test Function"
   ]
  },
  {
   "cell_type": "code",
   "execution_count": 43,
   "id": "93eebdb6-d1d9-4fd7-a781-594f80d72371",
   "metadata": {},
   "outputs": [],
   "source": [
    "max_tokens = 2048\n",
    "model='mistral-7b-instruct'"
   ]
  },
  {
   "cell_type": "code",
   "execution_count": 46,
   "id": "fc748325-e3cd-4b06-ba71-9c4eff1d8915",
   "metadata": {},
   "outputs": [],
   "source": [
    "models = [\n",
    "    'codellama-34b-instruct',\n",
    "    'llama-2-70b-chat',\n",
    "    'mistral-7b-instruct',\n",
    "    'pplx-7b-chat',\n",
    "    'pplx-70b-chat',\n",
    "]"
   ]
  },
  {
   "cell_type": "code",
   "execution_count": 62,
   "id": "09929308-ef7b-42f3-8800-06e35e9f1f00",
   "metadata": {},
   "outputs": [],
   "source": [
    "model = models[1]"
   ]
  },
  {
   "cell_type": "code",
   "execution_count": 63,
   "id": "0fa0100c-7dce-46ab-9961-48b3ef439c92",
   "metadata": {},
   "outputs": [],
   "source": [
    "response = openai.ChatCompletion.create(\n",
    "    model=model,\n",
    "    messages=message,\n",
    "    max_tokens=max_tokens,\n",
    "    api_base=\"https://api.perplexity.ai\",\n",
    "    api_key=PERPLEXITY_API_KEY,\n",
    ")"
   ]
  },
  {
   "cell_type": "markdown",
   "id": "d5ce4848-f522-4670-a773-57f81b5bf4f5",
   "metadata": {},
   "source": [
    "## Full Record"
   ]
  },
  {
   "cell_type": "code",
   "execution_count": 64,
   "id": "8f8eb0d5-5598-4707-be71-7a8dfc4f5779",
   "metadata": {},
   "outputs": [
    {
     "data": {
      "text/plain": [
       "<OpenAIObject chat.completion id=ca2617b2-ffb2-48c0-a362-fa750efbd964 at 0x7f01502d5270> JSON: {\n",
       "  \"id\": \"ca2617b2-ffb2-48c0-a362-fa750efbd964\",\n",
       "  \"model\": \"llama-2-70b-chat\",\n",
       "  \"created\": 7699435,\n",
       "  \"usage\": {\n",
       "    \"prompt_tokens\": 67,\n",
       "    \"completion_tokens\": 769,\n",
       "    \"total_tokens\": 836\n",
       "  },\n",
       "  \"object\": \"chat.completion\",\n",
       "  \"choices\": [\n",
       "    {\n",
       "      \"index\": 0,\n",
       "      \"finish_reason\": \"stop\",\n",
       "      \"message\": {\n",
       "        \"role\": \"assistant\",\n",
       "        \"content\": \"Thank you for asking! There have been many influential computer scientists in the 21st century who have made significant contributions to the field. Here are a few of the most notable ones in my estimation:\\n\\n1. Andrew Ng - Known for his work in AI, machine learning, and deep learning, Andrew Ng is a pioneer in the field of computer science. He is the co-founder of Coursera, an online learning platform, and has worked at Google, where he founded the Google Brain deep learning project.\\n2. Yann LeCun - Yann LeCun is a computer scientist and the director of AI Research at Facebook. He is also the Silver Professor of Computer Science at New York University, and a professor at the Courant Institute of Mathematical Sciences. He is one of the founding researchers of convolutional neural networks (CNNs), and was a founding member of the image-recognition startup, Numenta\\n3. Geoffrey Hinton - Geoffrey Hinton is a computer scientist and cognitive psychologist who is considered one of the leading figures in the field of deep learning. He is a professor emeritus at the University of Toronto, and is a leading researcher in the field of artificial neural networks.\\n4. Yoshua Bengio - Yoshua Bengio is a computer scientist and a leading researcher in the field of deep learning. He is a professor at the University of Montreal, and is known for his work on recurrent neural networks, and his contributions to the development of the Montreal Institute for Learning Algorithms.\\n5. Grace Hopper - Grace Hopper was a computer scientist and Navy Rear Admiral who made significant contributions to the development of computer programming languages. She is known for her work on COBOL, a programming language that revolutionized business and government computing, and is credited with popularizing the idea of machine-independent programming languages.\\n6. Vint Cerf - Vint Cerf is a computer scientist and internet pioneer who is widely known as one of the \\\"fathers of the internet.\\\" He is credited with co-designing the TCP/IP protocol, which is the fundamental communication protocol of the internet.\\n7. Shwetak Patel - Shwetak Patel is a computer scientist and entrepreneur who is known for his work on developing novel sensing technologies and systems. He is a professor at the University of Washington, and is the founder of several companies, including SenSen Network and Platypus.\\n8. Fei-Fei Li - Fei-Fei Li is a computer scientist and director of the Stanford Artificial Intelligence Lab. She is known for her work on artificial intelligence, machine learning, and computer vision, and is a leading expert in the field of AI Ethics.\\n9. John Hennessy - John Hennessy is a computer scientist and entrepreneur who is known for his work on computer architecture and programming. He is a co-founder of MIPS Technologies and Atheros Communications, and is a professor at Stanford University.\\n10. David Patterson - David Patterson is a computer scientist and professor at the University of California, Berkeley. He is known for his work on computer architecture, and is a leading researcher in the field of energy-efficient computing.\\n\\nThese are just a few examples of influential computer scientists in the 21st century, but there are many others who have made significant contributions to the field. Let me know if you have any further questions!\"\n",
       "      },\n",
       "      \"delta\": {\n",
       "        \"role\": \"assistant\",\n",
       "        \"content\": \"\"\n",
       "      }\n",
       "    }\n",
       "  ]\n",
       "}"
      ]
     },
     "execution_count": 64,
     "metadata": {},
     "output_type": "execute_result"
    }
   ],
   "source": [
    "response"
   ]
  },
  {
   "cell_type": "markdown",
   "id": "fe736908-6c40-4c1c-bb79-770693d5a46f",
   "metadata": {},
   "source": [
    "## Just chat response"
   ]
  },
  {
   "cell_type": "code",
   "execution_count": 65,
   "id": "0fa02419-48ae-4ea1-9f57-f68896b84224",
   "metadata": {},
   "outputs": [
    {
     "data": {
      "text/plain": [
       "'Thank you for asking! There have been many influential computer scientists in the 21st century who have made significant contributions to the field. Here are a few of the most notable ones in my estimation:\\n\\n1. Andrew Ng - Known for his work in AI, machine learning, and deep learning, Andrew Ng is a pioneer in the field of computer science. He is the co-founder of Coursera, an online learning platform, and has worked at Google, where he founded the Google Brain deep learning project.\\n2. Yann LeCun - Yann LeCun is a computer scientist and the director of AI Research at Facebook. He is also the Silver Professor of Computer Science at New York University, and a professor at the Courant Institute of Mathematical Sciences. He is one of the founding researchers of convolutional neural networks (CNNs), and was a founding member of the image-recognition startup, Numenta\\n3. Geoffrey Hinton - Geoffrey Hinton is a computer scientist and cognitive psychologist who is considered one of the leading figures in the field of deep learning. He is a professor emeritus at the University of Toronto, and is a leading researcher in the field of artificial neural networks.\\n4. Yoshua Bengio - Yoshua Bengio is a computer scientist and a leading researcher in the field of deep learning. He is a professor at the University of Montreal, and is known for his work on recurrent neural networks, and his contributions to the development of the Montreal Institute for Learning Algorithms.\\n5. Grace Hopper - Grace Hopper was a computer scientist and Navy Rear Admiral who made significant contributions to the development of computer programming languages. She is known for her work on COBOL, a programming language that revolutionized business and government computing, and is credited with popularizing the idea of machine-independent programming languages.\\n6. Vint Cerf - Vint Cerf is a computer scientist and internet pioneer who is widely known as one of the \"fathers of the internet.\" He is credited with co-designing the TCP/IP protocol, which is the fundamental communication protocol of the internet.\\n7. Shwetak Patel - Shwetak Patel is a computer scientist and entrepreneur who is known for his work on developing novel sensing technologies and systems. He is a professor at the University of Washington, and is the founder of several companies, including SenSen Network and Platypus.\\n8. Fei-Fei Li - Fei-Fei Li is a computer scientist and director of the Stanford Artificial Intelligence Lab. She is known for her work on artificial intelligence, machine learning, and computer vision, and is a leading expert in the field of AI Ethics.\\n9. John Hennessy - John Hennessy is a computer scientist and entrepreneur who is known for his work on computer architecture and programming. He is a co-founder of MIPS Technologies and Atheros Communications, and is a professor at Stanford University.\\n10. David Patterson - David Patterson is a computer scientist and professor at the University of California, Berkeley. He is known for his work on computer architecture, and is a leading researcher in the field of energy-efficient computing.\\n\\nThese are just a few examples of influential computer scientists in the 21st century, but there are many others who have made significant contributions to the field. Let me know if you have any further questions!'"
      ]
     },
     "execution_count": 65,
     "metadata": {},
     "output_type": "execute_result"
    }
   ],
   "source": [
    "response['choices'][0]['message']['content']"
   ]
  },
  {
   "cell_type": "markdown",
   "id": "5922f93c-340c-4a34-a5a9-591d53431ecf",
   "metadata": {},
   "source": [
    "## Compare Model Answers"
   ]
  },
  {
   "cell_type": "code",
   "execution_count": 66,
   "id": "0b520aca-e06e-4bea-ad6b-a79b78cbed3c",
   "metadata": {},
   "outputs": [
    {
     "data": {
      "text/plain": [
       "['codellama-34b-instruct',\n",
       " 'llama-2-70b-chat',\n",
       " 'mistral-7b-instruct',\n",
       " 'pplx-7b-chat',\n",
       " 'pplx-70b-chat']"
      ]
     },
     "execution_count": 66,
     "metadata": {},
     "output_type": "execute_result"
    }
   ],
   "source": [
    "models"
   ]
  },
  {
   "cell_type": "code",
   "execution_count": 57,
   "id": "aede3a6c-b51d-4250-b016-50dde48a64c7",
   "metadata": {},
   "outputs": [],
   "source": [
    "question = 'who in your estimation are the most influential computer scientists of the 21st century?'"
   ]
  },
  {
   "cell_type": "code",
   "execution_count": 58,
   "id": "1cfb0149-4fc7-4297-aa97-c52d4f08a542",
   "metadata": {},
   "outputs": [],
   "source": [
    "model_answers = {}\n",
    "\n",
    "for model in models:\n",
    "    answer = ask_ppl(question=question, model=model)\n",
    "    model_answers[model] = answer"
   ]
  },
  {
   "cell_type": "code",
   "execution_count": 60,
   "id": "dc7c5318-5787-42f7-881c-79dad25e07b1",
   "metadata": {},
   "outputs": [
    {
     "data": {
      "text/plain": [
       "dict_keys(['codellama-34b-instruct', 'llama-2-70b-chat', 'mistral-7b-instruct', 'pplx-7b-chat', 'pplx-70b-chat'])"
      ]
     },
     "execution_count": 60,
     "metadata": {},
     "output_type": "execute_result"
    }
   ],
   "source": [
    "model_answers.keys()"
   ]
  },
  {
   "cell_type": "code",
   "execution_count": 67,
   "id": "266a19f7-67e6-4043-b8b4-40ae05e49db0",
   "metadata": {},
   "outputs": [
    {
     "data": {
      "text/plain": [
       "'1. Turing Award winners: The Turing Award is considered the highest distinction in computer science, and winners of this award have undoubtedly made significant contributions to the field. Some notable Turing Award winners in the 21st century include:\\n\\n   - Shafi Goldwasser and Silvio Micali (2012) - For their work on cryptography and secure distributed computation\\n   - Leslie Valiant (2010) - For his work on computational complexity and learning\\n   - Michael Stonebraker (2014) - For his work on database systems\\n\\n2. Authors of seminal papers: Some computer scientists have published papers that have had a significant impact on the field. A few examples include:\\n\\n   - Sergey Brin and Lawrence Page (1998) - For their paper on the PageRank algorithm, which revolutionized search engines\\n   - Jon Kleinberg and David Easley (2010) - For their paper on network science, which has applications in various fields\\n   - Yoshua Bengio, Efstratios Gavves, and Dominique Bechmann (2015) - For their paper on deep learning for visual recognition\\n\\n3. Innovators in machine learning and AI: With the rapid development of machine learning and AI in the 21st century, some computer scientists have made significant contributions in these areas. A few examples include:\\n\\n   - Yoshua Bengio - For his work on deep learning and neural networks\\n   - Andrew Ng - For his work on machine learning and deep learning\\n   - Geoffrey Hinton - For his work on deep learning and neural networks\\n\\n4. Pioneers in computer graphics and visualization: Some computer scientists have made significant advancements in computer graphics and visualization, which have had a wide impact on various industries. A few examples include:\\n\\n   - Pat Hanrahan - For his work on computer graphics and visualization\\n   - Edwin Catmull - For his work on computer animation and graphics\\n   - Naty Gavriel - For his work on visualization and information visualization\\n\\n5. Leaders in computational biology: As biology and computer science continue to intersect, some computer scientists have made significant contributions in computational biology. A few examples include:\\n\\n   - Eugene Myers - For his work on bioinformatics and genome sequencing\\n   - David Haussler - For his work on computational genomics and bioinformatics\\n   - Michael Waterman - For his work on computational biology and bioinformatics\\n\\nThese are just a few examples of influential computer scientists in the 21st century. The list could be expanded to include many others who have made significant contributions to the field.\\n'"
      ]
     },
     "execution_count": 67,
     "metadata": {},
     "output_type": "execute_result"
    }
   ],
   "source": [
    "model_answers['pplx-70b-chat']"
   ]
  },
  {
   "cell_type": "code",
   "execution_count": null,
   "id": "99944319-a5ea-490b-a344-1ca53b8e5829",
   "metadata": {},
   "outputs": [],
   "source": []
  }
 ],
 "metadata": {
  "kernelspec": {
   "display_name": "Python 3 (ipykernel)",
   "language": "python",
   "name": "python3"
  },
  "language_info": {
   "codemirror_mode": {
    "name": "ipython",
    "version": 3
   },
   "file_extension": ".py",
   "mimetype": "text/x-python",
   "name": "python",
   "nbconvert_exporter": "python",
   "pygments_lexer": "ipython3",
   "version": "3.8.10"
  }
 },
 "nbformat": 4,
 "nbformat_minor": 5
}
