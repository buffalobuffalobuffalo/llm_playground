{
 "cells": [
  {
   "cell_type": "markdown",
   "id": "f5c5b661-2a44-444e-acdf-aa22d9e57cc6",
   "metadata": {},
   "source": [
    "# Perplexity LLM API\n",
    "- [blog post introducing it](https://blog.perplexity.ai/blog/introducing-pplx-api)\n",
    "- [api docs](https://docs.perplexity.ai/docs)\n",
    "- [quickstart for chat completions](https://docs.perplexity.ai/reference/post_chat_completions)\n",
    "- available models\n",
    "    - codellama-34b-instruct, 16384\n",
    "    - llama-2-70b-chat, 4096\t\n",
    "    - mistral-7b-instruct, 4096\t\n",
    "    - pplx-7b-chat, 8192\t\n",
    "    - pplx-70b-chat, 4096\t\n",
    "    - pplx-7b-online, 4096\t\n",
    "    - pplx-70b-online, 4096\t"
   ]
  },
  {
   "cell_type": "code",
   "execution_count": 140,
   "id": "c4739bfc-0218-47ca-8fbb-223a2dd9a714",
   "metadata": {},
   "outputs": [],
   "source": [
    "import openai\n",
    "import os\n",
    "import pandas as pd\n",
    "import numpy as np\n",
    "from pathlib import Path\n",
    "\n",
    "from langchain.embeddings import HuggingFaceEmbeddings\n",
    "from langchain.vectorstores import FAISS\n",
    "from langchain.text_splitter import RecursiveCharacterTextSplitter\n",
    "from sentence_transformers import SentenceTransformer\n",
    "from langchain.document_loaders import UnstructuredMarkdownLoader\n",
    "from langchain.document_loaders import TextLoader"
   ]
  },
  {
   "cell_type": "code",
   "execution_count": 2,
   "id": "560dba30-d91e-4fb4-9443-6968e1b414f2",
   "metadata": {},
   "outputs": [],
   "source": [
    "## TODO not sourcing from bashrc, investigate why\n",
    "#PERPLEXITY_API_KEY = os.environ.get('PERPLEXITY_API_KEY')"
   ]
  },
  {
   "cell_type": "code",
   "execution_count": 37,
   "id": "12416faf-7dd7-4515-826f-f331b95be181",
   "metadata": {},
   "outputs": [],
   "source": [
    "PERPLEXITY_API_KEY=''"
   ]
  },
  {
   "cell_type": "markdown",
   "id": "ddb1a00d-4ecc-48cd-9df8-0cf7fa0710a3",
   "metadata": {},
   "source": [
    "## Sample Code Structure they provide\n",
    "* I updated the actual prompt though"
   ]
  },
  {
   "cell_type": "code",
   "execution_count": 4,
   "id": "6a740c79-9121-4a37-beae-1c7d1b08625e",
   "metadata": {},
   "outputs": [
    {
     "name": "stdout",
     "output_type": "stream",
     "text": [
      "{\n",
      "  \"id\": \"4abe46d6-fbb2-4825-bde6-07df992c8df2\",\n",
      "  \"model\": \"mistral-7b-instruct\",\n",
      "  \"created\": 7617692,\n",
      "  \"usage\": {\n",
      "    \"prompt_tokens\": 46,\n",
      "    \"completion_tokens\": 89,\n",
      "    \"total_tokens\": 135\n",
      "  },\n",
      "  \"object\": \"chat.completion\",\n",
      "  \"choices\": [\n",
      "    {\n",
      "      \"index\": 0,\n",
      "      \"finish_reason\": \"stop\",\n",
      "      \"message\": {\n",
      "        \"role\": \"assistant\",\n",
      "        \"content\": \"Hello! I'd be happy to help improve your aim at darts. Here are a few simple tricks that you may find helpful:\\n\\n1. First and foremost, it's important to hold the dart properly. Hold it with your dominant hand and make sure that the point of the dart is facing forward. Use your non-dominant hand to steady the dart as you release it.\\n2. ...\"\n",
      "      },\n",
      "      \"delta\": {\n",
      "        \"role\": \"assistant\",\n",
      "        \"content\": \"\"\n",
      "      }\n",
      "    }\n",
      "  ]\n",
      "}\n"
     ]
    }
   ],
   "source": [
    "messages = [\n",
    "    {\n",
    "        \"role\": \"system\",\n",
    "        \"content\": (\n",
    "            \"You are an artificial intelligence assistant and you need to \"\n",
    "            \"engage in a helpful, detailed, polite conversation with a user.\"\n",
    "        ),\n",
    "    },\n",
    "    {\n",
    "        \"role\": \"user\",\n",
    "        \"content\": (\n",
    "            \"What are some simple tricks to improve my aim at darts?\"\n",
    "        ),\n",
    "    },\n",
    "]\n",
    "\n",
    "# demo chat completion without streaming\n",
    "response = openai.ChatCompletion.create(\n",
    "    model=\"mistral-7b-instruct\",\n",
    "    messages=messages,\n",
    "    api_base=\"https://api.perplexity.ai\",\n",
    "    api_key=PERPLEXITY_API_KEY,\n",
    ")\n",
    "print(response)"
   ]
  },
  {
   "cell_type": "markdown",
   "id": "b478202b-758a-4d0b-aacd-59acd1b18906",
   "metadata": {},
   "source": [
    "## Streaming Example"
   ]
  },
  {
   "cell_type": "code",
   "execution_count": 5,
   "id": "cfc0a744-5f5d-4d98-851d-dee372a9f040",
   "metadata": {},
   "outputs": [],
   "source": [
    "# # demo chat completion with streaming\n",
    "# response_stream = openai.ChatCompletion.create(\n",
    "#     model=\"mistral-7b-instruct\",\n",
    "#     messages=messages,\n",
    "#     api_base=\"https://api.perplexity.ai\",\n",
    "#     api_key=PERPLEXITY_API_KEY,\n",
    "#     stream=True, #BE CAREFUL WITH THIS\n",
    "# )\n",
    "# for response in response_stream:\n",
    "#     print(response)"
   ]
  },
  {
   "cell_type": "markdown",
   "id": "cdf656e1-377c-4358-90e0-b6370f38542f",
   "metadata": {},
   "source": [
    "## Only print the response message"
   ]
  },
  {
   "cell_type": "code",
   "execution_count": 6,
   "id": "4753974f-5468-4f5c-90bd-14f98699b4db",
   "metadata": {},
   "outputs": [
    {
     "data": {
      "text/plain": [
       "\"Hello! I'd be happy to help improve your aim at darts. Here are a few simple tricks that you may find helpful:\\n\\n1. First and foremost, it's important to hold the dart properly. Hold it with your dominant hand and make sure that the point of the dart is facing forward. Use your non-dominant hand to steady the dart as you release it.\\n2. ...\""
      ]
     },
     "execution_count": 6,
     "metadata": {},
     "output_type": "execute_result"
    }
   ],
   "source": [
    "response['choices'][0]['message']['content']"
   ]
  },
  {
   "cell_type": "markdown",
   "id": "8e8af300-8b7e-40ef-9596-5185e62fb583",
   "metadata": {},
   "source": [
    "## Quick Math on Current Pricing"
   ]
  },
  {
   "cell_type": "code",
   "execution_count": 7,
   "id": "275c79f6-654d-488c-b5b0-c6c424d49d13",
   "metadata": {},
   "outputs": [],
   "source": [
    "pricing = pd.read_csv('pricing_for_perplexity_api.csv')"
   ]
  },
  {
   "cell_type": "code",
   "execution_count": 8,
   "id": "f50e8b61-6246-408c-ba21-de081443e3f7",
   "metadata": {},
   "outputs": [
    {
     "data": {
      "text/html": [
       "<div>\n",
       "<style scoped>\n",
       "    .dataframe tbody tr th:only-of-type {\n",
       "        vertical-align: middle;\n",
       "    }\n",
       "\n",
       "    .dataframe tbody tr th {\n",
       "        vertical-align: top;\n",
       "    }\n",
       "\n",
       "    .dataframe thead th {\n",
       "        text-align: right;\n",
       "    }\n",
       "</style>\n",
       "<table border=\"1\" class=\"dataframe\">\n",
       "  <thead>\n",
       "    <tr style=\"text-align: right;\">\n",
       "      <th></th>\n",
       "      <th>model_parameter_count</th>\n",
       "      <th>per1m_input_tokens</th>\n",
       "      <th>per1m_output_tokens</th>\n",
       "    </tr>\n",
       "  </thead>\n",
       "  <tbody>\n",
       "    <tr>\n",
       "      <th>0</th>\n",
       "      <td>7B</td>\n",
       "      <td>$0.07</td>\n",
       "      <td>$0.28</td>\n",
       "    </tr>\n",
       "    <tr>\n",
       "      <th>1</th>\n",
       "      <td>13B</td>\n",
       "      <td>$0.14</td>\n",
       "      <td>$0.56</td>\n",
       "    </tr>\n",
       "    <tr>\n",
       "      <th>2</th>\n",
       "      <td>34B</td>\n",
       "      <td>$0.35</td>\n",
       "      <td>$1.40</td>\n",
       "    </tr>\n",
       "    <tr>\n",
       "      <th>3</th>\n",
       "      <td>70B</td>\n",
       "      <td>$0.70</td>\n",
       "      <td>$2.80</td>\n",
       "    </tr>\n",
       "  </tbody>\n",
       "</table>\n",
       "</div>"
      ],
      "text/plain": [
       "  model_parameter_count per1m_input_tokens per1m_output_tokens\n",
       "0                    7B              $0.07               $0.28\n",
       "1                   13B              $0.14               $0.56\n",
       "2                   34B              $0.35               $1.40\n",
       "3                   70B              $0.70               $2.80"
      ]
     },
     "execution_count": 8,
     "metadata": {},
     "output_type": "execute_result"
    }
   ],
   "source": [
    "pricing"
   ]
  },
  {
   "cell_type": "code",
   "execution_count": 9,
   "id": "8bb295c8-4ecb-49c2-be3e-d355da4d3f7f",
   "metadata": {},
   "outputs": [],
   "source": [
    "pricing['per1m_input_tokens'] = pricing['per1m_input_tokens'].str.replace('$', '').astype(float)\n",
    "pricing['per1m_output_tokens'] = pricing['per1m_output_tokens'].str.replace('$', '').astype(float)"
   ]
  },
  {
   "cell_type": "code",
   "execution_count": 10,
   "id": "32b5bd97-d2d3-4922-8786-2956fc56610d",
   "metadata": {},
   "outputs": [
    {
     "data": {
      "text/html": [
       "<div>\n",
       "<style scoped>\n",
       "    .dataframe tbody tr th:only-of-type {\n",
       "        vertical-align: middle;\n",
       "    }\n",
       "\n",
       "    .dataframe tbody tr th {\n",
       "        vertical-align: top;\n",
       "    }\n",
       "\n",
       "    .dataframe thead th {\n",
       "        text-align: right;\n",
       "    }\n",
       "</style>\n",
       "<table border=\"1\" class=\"dataframe\">\n",
       "  <thead>\n",
       "    <tr style=\"text-align: right;\">\n",
       "      <th></th>\n",
       "      <th>model_parameter_count</th>\n",
       "      <th>per1m_input_tokens</th>\n",
       "      <th>per1m_output_tokens</th>\n",
       "    </tr>\n",
       "  </thead>\n",
       "  <tbody>\n",
       "    <tr>\n",
       "      <th>0</th>\n",
       "      <td>7B</td>\n",
       "      <td>0.07</td>\n",
       "      <td>0.28</td>\n",
       "    </tr>\n",
       "    <tr>\n",
       "      <th>1</th>\n",
       "      <td>13B</td>\n",
       "      <td>0.14</td>\n",
       "      <td>0.56</td>\n",
       "    </tr>\n",
       "    <tr>\n",
       "      <th>2</th>\n",
       "      <td>34B</td>\n",
       "      <td>0.35</td>\n",
       "      <td>1.40</td>\n",
       "    </tr>\n",
       "    <tr>\n",
       "      <th>3</th>\n",
       "      <td>70B</td>\n",
       "      <td>0.70</td>\n",
       "      <td>2.80</td>\n",
       "    </tr>\n",
       "  </tbody>\n",
       "</table>\n",
       "</div>"
      ],
      "text/plain": [
       "  model_parameter_count  per1m_input_tokens  per1m_output_tokens\n",
       "0                    7B                0.07                 0.28\n",
       "1                   13B                0.14                 0.56\n",
       "2                   34B                0.35                 1.40\n",
       "3                   70B                0.70                 2.80"
      ]
     },
     "execution_count": 10,
     "metadata": {},
     "output_type": "execute_result"
    }
   ],
   "source": [
    "pricing"
   ]
  },
  {
   "cell_type": "code",
   "execution_count": 20,
   "id": "031124c9-d76a-4c95-bfbb-fb4565524c93",
   "metadata": {},
   "outputs": [],
   "source": [
    "def cost_of_message(response,pricing=pricing):\n",
    "    'return the cost of the individual message in USD'\n",
    "    model_type = response['model'].split('-')[-2].upper()\n",
    "    input_tokens = response['usage']['prompt_tokens']\n",
    "    output_tokens = response['usage']['completion_tokens']\n",
    "\n",
    "    input_rate = pricing[pricing.model_parameter_count == model_type].per1m_input_tokens\n",
    "    output_rate = pricing[pricing.model_parameter_count == model_type].per1m_output_tokens\n",
    "\n",
    "    input_cost = input_tokens * input_rate / 1_000_000\n",
    "    output_cost = output_tokens * output_rate / 1_000_000\n",
    "\n",
    "    cost = input_cost + output_cost\n",
    "    return cost"
   ]
  },
  {
   "cell_type": "code",
   "execution_count": 21,
   "id": "52e386dd-7823-4b76-8596-61ee2929ac85",
   "metadata": {},
   "outputs": [
    {
     "data": {
      "text/plain": [
       "0    0.000028\n",
       "dtype: float64"
      ]
     },
     "execution_count": 21,
     "metadata": {},
     "output_type": "execute_result"
    }
   ],
   "source": [
    "cost_of_message(response=response,pricing=pricing)"
   ]
  },
  {
   "cell_type": "code",
   "execution_count": 61,
   "id": "9c1e8cf1-12c6-4108-b26d-440d691ef528",
   "metadata": {},
   "outputs": [
    {
     "data": {
      "text/plain": [
       "{'role': 'system',\n",
       " 'content': 'You are an artificial intelligence assistant and you need to engage in a helpful, detailed, polite conversation with a user.'}"
      ]
     },
     "execution_count": 61,
     "metadata": {},
     "output_type": "execute_result"
    }
   ],
   "source": [
    "system_prompt = {\n",
    "    'role': 'system',\n",
    "     'content': 'You are an artificial intelligence assistant and you need to engage in a helpful, detailed, polite conversation with a user.'\n",
    "    }"
   ]
  },
  {
   "cell_type": "markdown",
   "id": "ff97844d-d168-4e83-aea8-d3f9cc051be9",
   "metadata": {},
   "source": [
    "## Function to get answers"
   ]
  },
  {
   "cell_type": "code",
   "execution_count": 52,
   "id": "d92c76d2-d440-4c5e-993c-80176cadb1ca",
   "metadata": {},
   "outputs": [],
   "source": [
    "def ask_ppl(question,\n",
    "            system_prompt=system_prompt,\n",
    "            max_tokens=2048, \n",
    "            model=\"mistral-7b-instruct\",\n",
    "            api_key=PERPLEXITY_API_KEY):\n",
    "\n",
    "    user_prompt = {\n",
    "        \"role\": \"user\",\n",
    "        \"content\": (\n",
    "           question\n",
    "        ),\n",
    "    }\n",
    "\n",
    "    message= [\n",
    "            system_prompt,\n",
    "            user_prompt\n",
    "        ]\n",
    "    response = openai.ChatCompletion.create(\n",
    "        model=model,\n",
    "        messages=message,\n",
    "        max_tokens=max_tokens,\n",
    "        api_base=\"https://api.perplexity.ai\",\n",
    "        api_key=PERPLEXITY_API_KEY,\n",
    "    )\n",
    "\n",
    "    return response['choices'][0]['message']['content']"
   ]
  },
  {
   "cell_type": "code",
   "execution_count": 41,
   "id": "48cafbe4-91d5-486a-ae88-fa53cf834d0b",
   "metadata": {},
   "outputs": [
    {
     "data": {
      "text/plain": [
       "'who in your estimation are the most influential computer scientists of the 21st century?'"
      ]
     },
     "execution_count": 41,
     "metadata": {},
     "output_type": "execute_result"
    }
   ],
   "source": [
    "question"
   ]
  },
  {
   "cell_type": "markdown",
   "id": "6e8ef071-3f5d-4138-b7ff-04f6d4aa80b4",
   "metadata": {},
   "source": [
    "## Test Message Formatting"
   ]
  },
  {
   "cell_type": "code",
   "execution_count": 42,
   "id": "061e8cd2-ac38-40d2-a78a-d9f1465fe615",
   "metadata": {},
   "outputs": [
    {
     "data": {
      "text/plain": [
       "[{'role': 'system',\n",
       "  'content': 'You are an artificial intelligence assistant and you need to engage in a helpful, detailed, polite conversation with a user.'},\n",
       " {'role': 'user',\n",
       "  'content': 'who in your estimation are the most influential computer scientists of the 21st century?'}]"
      ]
     },
     "execution_count": 42,
     "metadata": {},
     "output_type": "execute_result"
    }
   ],
   "source": [
    "user_prompt = {\n",
    "    \"role\": \"user\",\n",
    "    \"content\": (\n",
    "       question\n",
    "    ),\n",
    "}\n",
    "\n",
    "message= [\n",
    "        system_prompt,\n",
    "        user_prompt\n",
    "    ]\n",
    "\n",
    "message"
   ]
  },
  {
   "cell_type": "markdown",
   "id": "5ea5b60c-2034-4d3c-a27b-3b76002162a2",
   "metadata": {},
   "source": [
    "## Test Function"
   ]
  },
  {
   "cell_type": "code",
   "execution_count": 43,
   "id": "93eebdb6-d1d9-4fd7-a781-594f80d72371",
   "metadata": {},
   "outputs": [],
   "source": [
    "max_tokens = 2048\n",
    "model='mistral-7b-instruct'"
   ]
  },
  {
   "cell_type": "code",
   "execution_count": 46,
   "id": "fc748325-e3cd-4b06-ba71-9c4eff1d8915",
   "metadata": {},
   "outputs": [],
   "source": [
    "models = [\n",
    "    'codellama-34b-instruct',\n",
    "    'llama-2-70b-chat',\n",
    "    'mistral-7b-instruct',\n",
    "    'pplx-7b-chat',\n",
    "    'pplx-70b-chat',\n",
    "]"
   ]
  },
  {
   "cell_type": "code",
   "execution_count": 62,
   "id": "09929308-ef7b-42f3-8800-06e35e9f1f00",
   "metadata": {},
   "outputs": [],
   "source": [
    "model = models[1]"
   ]
  },
  {
   "cell_type": "code",
   "execution_count": 63,
   "id": "0fa0100c-7dce-46ab-9961-48b3ef439c92",
   "metadata": {},
   "outputs": [],
   "source": [
    "response = openai.ChatCompletion.create(\n",
    "    model=model,\n",
    "    messages=message,\n",
    "    max_tokens=max_tokens,\n",
    "    api_base=\"https://api.perplexity.ai\",\n",
    "    api_key=PERPLEXITY_API_KEY,\n",
    ")"
   ]
  },
  {
   "cell_type": "markdown",
   "id": "d5ce4848-f522-4670-a773-57f81b5bf4f5",
   "metadata": {},
   "source": [
    "## Full Record"
   ]
  },
  {
   "cell_type": "code",
   "execution_count": 64,
   "id": "8f8eb0d5-5598-4707-be71-7a8dfc4f5779",
   "metadata": {},
   "outputs": [
    {
     "data": {
      "text/plain": [
       "<OpenAIObject chat.completion id=ca2617b2-ffb2-48c0-a362-fa750efbd964 at 0x7f01502d5270> JSON: {\n",
       "  \"id\": \"ca2617b2-ffb2-48c0-a362-fa750efbd964\",\n",
       "  \"model\": \"llama-2-70b-chat\",\n",
       "  \"created\": 7699435,\n",
       "  \"usage\": {\n",
       "    \"prompt_tokens\": 67,\n",
       "    \"completion_tokens\": 769,\n",
       "    \"total_tokens\": 836\n",
       "  },\n",
       "  \"object\": \"chat.completion\",\n",
       "  \"choices\": [\n",
       "    {\n",
       "      \"index\": 0,\n",
       "      \"finish_reason\": \"stop\",\n",
       "      \"message\": {\n",
       "        \"role\": \"assistant\",\n",
       "        \"content\": \"Thank you for asking! There have been many influential computer scientists in the 21st century who have made significant contributions to the field. Here are a few of the most notable ones in my estimation:\\n\\n1. Andrew Ng - Known for his work in AI, machine learning, and deep learning, Andrew Ng is a pioneer in the field of computer science. He is the co-founder of Coursera, an online learning platform, and has worked at Google, where he founded the Google Brain deep learning project.\\n2. Yann LeCun - Yann LeCun is a computer scientist and the director of AI Research at Facebook. He is also the Silver Professor of Computer Science at New York University, and a professor at the Courant Institute of Mathematical Sciences. He is one of the founding researchers of convolutional neural networks (CNNs), and was a founding member of the image-recognition startup, Numenta\\n3. Geoffrey Hinton - Geoffrey Hinton is a computer scientist and cognitive psychologist who is considered one of the leading figures in the field of deep learning. He is a professor emeritus at the University of Toronto, and is a leading researcher in the field of artificial neural networks.\\n4. Yoshua Bengio - Yoshua Bengio is a computer scientist and a leading researcher in the field of deep learning. He is a professor at the University of Montreal, and is known for his work on recurrent neural networks, and his contributions to the development of the Montreal Institute for Learning Algorithms.\\n5. Grace Hopper - Grace Hopper was a computer scientist and Navy Rear Admiral who made significant contributions to the development of computer programming languages. She is known for her work on COBOL, a programming language that revolutionized business and government computing, and is credited with popularizing the idea of machine-independent programming languages.\\n6. Vint Cerf - Vint Cerf is a computer scientist and internet pioneer who is widely known as one of the \\\"fathers of the internet.\\\" He is credited with co-designing the TCP/IP protocol, which is the fundamental communication protocol of the internet.\\n7. Shwetak Patel - Shwetak Patel is a computer scientist and entrepreneur who is known for his work on developing novel sensing technologies and systems. He is a professor at the University of Washington, and is the founder of several companies, including SenSen Network and Platypus.\\n8. Fei-Fei Li - Fei-Fei Li is a computer scientist and director of the Stanford Artificial Intelligence Lab. She is known for her work on artificial intelligence, machine learning, and computer vision, and is a leading expert in the field of AI Ethics.\\n9. John Hennessy - John Hennessy is a computer scientist and entrepreneur who is known for his work on computer architecture and programming. He is a co-founder of MIPS Technologies and Atheros Communications, and is a professor at Stanford University.\\n10. David Patterson - David Patterson is a computer scientist and professor at the University of California, Berkeley. He is known for his work on computer architecture, and is a leading researcher in the field of energy-efficient computing.\\n\\nThese are just a few examples of influential computer scientists in the 21st century, but there are many others who have made significant contributions to the field. Let me know if you have any further questions!\"\n",
       "      },\n",
       "      \"delta\": {\n",
       "        \"role\": \"assistant\",\n",
       "        \"content\": \"\"\n",
       "      }\n",
       "    }\n",
       "  ]\n",
       "}"
      ]
     },
     "execution_count": 64,
     "metadata": {},
     "output_type": "execute_result"
    }
   ],
   "source": [
    "response"
   ]
  },
  {
   "cell_type": "markdown",
   "id": "fe736908-6c40-4c1c-bb79-770693d5a46f",
   "metadata": {},
   "source": [
    "## Just chat response"
   ]
  },
  {
   "cell_type": "code",
   "execution_count": 65,
   "id": "0fa02419-48ae-4ea1-9f57-f68896b84224",
   "metadata": {},
   "outputs": [
    {
     "data": {
      "text/plain": [
       "'Thank you for asking! There have been many influential computer scientists in the 21st century who have made significant contributions to the field. Here are a few of the most notable ones in my estimation:\\n\\n1. Andrew Ng - Known for his work in AI, machine learning, and deep learning, Andrew Ng is a pioneer in the field of computer science. He is the co-founder of Coursera, an online learning platform, and has worked at Google, where he founded the Google Brain deep learning project.\\n2. Yann LeCun - Yann LeCun is a computer scientist and the director of AI Research at Facebook. He is also the Silver Professor of Computer Science at New York University, and a professor at the Courant Institute of Mathematical Sciences. He is one of the founding researchers of convolutional neural networks (CNNs), and was a founding member of the image-recognition startup, Numenta\\n3. Geoffrey Hinton - Geoffrey Hinton is a computer scientist and cognitive psychologist who is considered one of the leading figures in the field of deep learning. He is a professor emeritus at the University of Toronto, and is a leading researcher in the field of artificial neural networks.\\n4. Yoshua Bengio - Yoshua Bengio is a computer scientist and a leading researcher in the field of deep learning. He is a professor at the University of Montreal, and is known for his work on recurrent neural networks, and his contributions to the development of the Montreal Institute for Learning Algorithms.\\n5. Grace Hopper - Grace Hopper was a computer scientist and Navy Rear Admiral who made significant contributions to the development of computer programming languages. She is known for her work on COBOL, a programming language that revolutionized business and government computing, and is credited with popularizing the idea of machine-independent programming languages.\\n6. Vint Cerf - Vint Cerf is a computer scientist and internet pioneer who is widely known as one of the \"fathers of the internet.\" He is credited with co-designing the TCP/IP protocol, which is the fundamental communication protocol of the internet.\\n7. Shwetak Patel - Shwetak Patel is a computer scientist and entrepreneur who is known for his work on developing novel sensing technologies and systems. He is a professor at the University of Washington, and is the founder of several companies, including SenSen Network and Platypus.\\n8. Fei-Fei Li - Fei-Fei Li is a computer scientist and director of the Stanford Artificial Intelligence Lab. She is known for her work on artificial intelligence, machine learning, and computer vision, and is a leading expert in the field of AI Ethics.\\n9. John Hennessy - John Hennessy is a computer scientist and entrepreneur who is known for his work on computer architecture and programming. He is a co-founder of MIPS Technologies and Atheros Communications, and is a professor at Stanford University.\\n10. David Patterson - David Patterson is a computer scientist and professor at the University of California, Berkeley. He is known for his work on computer architecture, and is a leading researcher in the field of energy-efficient computing.\\n\\nThese are just a few examples of influential computer scientists in the 21st century, but there are many others who have made significant contributions to the field. Let me know if you have any further questions!'"
      ]
     },
     "execution_count": 65,
     "metadata": {},
     "output_type": "execute_result"
    }
   ],
   "source": [
    "response['choices'][0]['message']['content']"
   ]
  },
  {
   "cell_type": "markdown",
   "id": "5922f93c-340c-4a34-a5a9-591d53431ecf",
   "metadata": {},
   "source": [
    "## Compare Model Answers"
   ]
  },
  {
   "cell_type": "code",
   "execution_count": 66,
   "id": "0b520aca-e06e-4bea-ad6b-a79b78cbed3c",
   "metadata": {},
   "outputs": [
    {
     "data": {
      "text/plain": [
       "['codellama-34b-instruct',\n",
       " 'llama-2-70b-chat',\n",
       " 'mistral-7b-instruct',\n",
       " 'pplx-7b-chat',\n",
       " 'pplx-70b-chat']"
      ]
     },
     "execution_count": 66,
     "metadata": {},
     "output_type": "execute_result"
    }
   ],
   "source": [
    "models"
   ]
  },
  {
   "cell_type": "code",
   "execution_count": 57,
   "id": "aede3a6c-b51d-4250-b016-50dde48a64c7",
   "metadata": {},
   "outputs": [],
   "source": [
    "question = 'who in your estimation are the most influential computer scientists of the 21st century?'"
   ]
  },
  {
   "cell_type": "code",
   "execution_count": 58,
   "id": "1cfb0149-4fc7-4297-aa97-c52d4f08a542",
   "metadata": {},
   "outputs": [],
   "source": [
    "model_answers = {}\n",
    "\n",
    "for model in models:\n",
    "    answer = ask_ppl(question=question, model=model)\n",
    "    model_answers[model] = answer"
   ]
  },
  {
   "cell_type": "code",
   "execution_count": 60,
   "id": "dc7c5318-5787-42f7-881c-79dad25e07b1",
   "metadata": {},
   "outputs": [
    {
     "data": {
      "text/plain": [
       "dict_keys(['codellama-34b-instruct', 'llama-2-70b-chat', 'mistral-7b-instruct', 'pplx-7b-chat', 'pplx-70b-chat'])"
      ]
     },
     "execution_count": 60,
     "metadata": {},
     "output_type": "execute_result"
    }
   ],
   "source": [
    "model_answers.keys()"
   ]
  },
  {
   "cell_type": "code",
   "execution_count": 67,
   "id": "266a19f7-67e6-4043-b8b4-40ae05e49db0",
   "metadata": {},
   "outputs": [
    {
     "data": {
      "text/plain": [
       "'1. Turing Award winners: The Turing Award is considered the highest distinction in computer science, and winners of this award have undoubtedly made significant contributions to the field. Some notable Turing Award winners in the 21st century include:\\n\\n   - Shafi Goldwasser and Silvio Micali (2012) - For their work on cryptography and secure distributed computation\\n   - Leslie Valiant (2010) - For his work on computational complexity and learning\\n   - Michael Stonebraker (2014) - For his work on database systems\\n\\n2. Authors of seminal papers: Some computer scientists have published papers that have had a significant impact on the field. A few examples include:\\n\\n   - Sergey Brin and Lawrence Page (1998) - For their paper on the PageRank algorithm, which revolutionized search engines\\n   - Jon Kleinberg and David Easley (2010) - For their paper on network science, which has applications in various fields\\n   - Yoshua Bengio, Efstratios Gavves, and Dominique Bechmann (2015) - For their paper on deep learning for visual recognition\\n\\n3. Innovators in machine learning and AI: With the rapid development of machine learning and AI in the 21st century, some computer scientists have made significant contributions in these areas. A few examples include:\\n\\n   - Yoshua Bengio - For his work on deep learning and neural networks\\n   - Andrew Ng - For his work on machine learning and deep learning\\n   - Geoffrey Hinton - For his work on deep learning and neural networks\\n\\n4. Pioneers in computer graphics and visualization: Some computer scientists have made significant advancements in computer graphics and visualization, which have had a wide impact on various industries. A few examples include:\\n\\n   - Pat Hanrahan - For his work on computer graphics and visualization\\n   - Edwin Catmull - For his work on computer animation and graphics\\n   - Naty Gavriel - For his work on visualization and information visualization\\n\\n5. Leaders in computational biology: As biology and computer science continue to intersect, some computer scientists have made significant contributions in computational biology. A few examples include:\\n\\n   - Eugene Myers - For his work on bioinformatics and genome sequencing\\n   - David Haussler - For his work on computational genomics and bioinformatics\\n   - Michael Waterman - For his work on computational biology and bioinformatics\\n\\nThese are just a few examples of influential computer scientists in the 21st century. The list could be expanded to include many others who have made significant contributions to the field.\\n'"
      ]
     },
     "execution_count": 67,
     "metadata": {},
     "output_type": "execute_result"
    }
   ],
   "source": [
    "model_answers['pplx-70b-chat']"
   ]
  },
  {
   "cell_type": "markdown",
   "id": "dba4b512-51c0-4daa-a65d-e62505250b4e",
   "metadata": {},
   "source": [
    "# Use as a RAG"
   ]
  },
  {
   "cell_type": "markdown",
   "id": "70338347-47e6-4826-8ead-27c9b617bb77",
   "metadata": {},
   "source": [
    "## Embed Articles from The Last Psychiatrist"
   ]
  },
  {
   "cell_type": "code",
   "execution_count": 69,
   "id": "80f8513d-19c0-4f5f-822e-cc6562483e30",
   "metadata": {},
   "outputs": [
    {
     "name": "stderr",
     "output_type": "stream",
     "text": [
      ".gitattributes: 100%|██████████████████████████████████████████████████████████████████████████████| 1.18k/1.18k [00:00<00:00, 191kB/s]\n",
      "1_Pooling/config.json: 100%|██████████████████████████████████████████████████████████████████████████| 190/190 [00:00<00:00, 24.6kB/s]\n",
      "README.md: 100%|██████████████████████████████████████████████████████████████████████████████████| 10.6k/10.6k [00:00<00:00, 6.21MB/s]\n",
      "config.json: 100%|█████████████████████████████████████████████████████████████████████████████████████| 612/612 [00:00<00:00, 348kB/s]\n",
      "config_sentence_transformers.json: 100%|██████████████████████████████████████████████████████████████| 116/116 [00:00<00:00, 47.6kB/s]\n",
      "data_config.json: 100%|███████████████████████████████████████████████████████████████████████████| 39.3k/39.3k [00:00<00:00, 16.0MB/s]\n",
      "pytorch_model.bin: 100%|██████████████████████████████████████████████████████████████████████████| 90.9M/90.9M [00:02<00:00, 41.0MB/s]\n",
      "sentence_bert_config.json: 100%|████████████████████████████████████████████████████████████████████| 53.0/53.0 [00:00<00:00, 7.63kB/s]\n",
      "special_tokens_map.json: 100%|████████████████████████████████████████████████████████████████████████| 112/112 [00:00<00:00, 74.1kB/s]\n",
      "tokenizer.json: 100%|███████████████████████████████████████████████████████████████████████████████| 466k/466k [00:00<00:00, 6.73MB/s]\n",
      "tokenizer_config.json: 100%|███████████████████████████████████████████████████████████████████████████| 350/350 [00:00<00:00, 232kB/s]\n",
      "train_script.py: 100%|████████████████████████████████████████████████████████████████████████████| 13.2k/13.2k [00:00<00:00, 8.24MB/s]\n",
      "vocab.txt: 100%|████████████████████████████████████████████████████████████████████████████████████| 232k/232k [00:00<00:00, 58.8MB/s]\n",
      "modules.json: 100%|████████████████████████████████████████████████████████████████████████████████████| 349/349 [00:00<00:00, 188kB/s]\n"
     ]
    }
   ],
   "source": [
    "# use tiny model for embeddings\n",
    "model_id = \"sentence-transformers/all-MiniLM-L6-v2\"\n",
    "embeddings = HuggingFaceEmbeddings(model_name=model_id)"
   ]
  },
  {
   "cell_type": "code",
   "execution_count": 72,
   "id": "38b22833-3a61-46e3-a648-2a8ccd7f1b47",
   "metadata": {},
   "outputs": [],
   "source": [
    "# Load text data from a file using TextLoader\n",
    "loader = TextLoader('data/who_can_know_how_much_randi_zu.txt')\n",
    "documents = loader.load()"
   ]
  },
  {
   "cell_type": "code",
   "execution_count": 73,
   "id": "76b11cc3-0c51-4702-99f2-3c144f532b42",
   "metadata": {},
   "outputs": [],
   "source": [
    "# format it for processing by embedding model\n",
    "text_splitter = RecursiveCharacterTextSplitter(chunk_size=1000, chunk_overlap=50)\n",
    "text_chunks = text_splitter.split_documents(documents)"
   ]
  },
  {
   "cell_type": "code",
   "execution_count": 96,
   "id": "22680c56-34da-43c8-a1ae-b6a3941af6e6",
   "metadata": {},
   "outputs": [],
   "source": [
    "vectorstore_of_docs = FAISS.from_documents(text_chunks, embedding=embeddings)"
   ]
  },
  {
   "cell_type": "markdown",
   "id": "3ab8ba54-a1a4-4252-ae7d-605124dc7f02",
   "metadata": {},
   "source": [
    "## Function to prep docs for encoding"
   ]
  },
  {
   "cell_type": "code",
   "execution_count": 159,
   "id": "18506a7d-35ae-4b58-9258-5edf37e98762",
   "metadata": {},
   "outputs": [],
   "source": [
    "def load_text_files_for_encoding(file_names, dir):\n",
    "    documents = []\n",
    "    for text_file in file_names:\n",
    "        loader = TextLoader(str(directory) + '/' + text_file)\n",
    "        documents.extend(loader.load())\n",
    "    \n",
    "    text_splitter = RecursiveCharacterTextSplitter(chunk_size=1000, chunk_overlap=50)\n",
    "    chunked_documents = text_splitter.split_documents(documents)\n",
    "\n",
    "    return chunked_documents"
   ]
  },
  {
   "cell_type": "markdown",
   "id": "a7d2d47c-bc8e-41a1-98b3-9d5cce546bc8",
   "metadata": {},
   "source": [
    "## Encoding a bunch of documents"
   ]
  },
  {
   "cell_type": "code",
   "execution_count": 160,
   "id": "40944da1-3adf-4129-9892-b08fd1d33307",
   "metadata": {},
   "outputs": [],
   "source": [
    "directory = Path('/home/nick/Documents/repos/llm_playground/data')\n",
    "\n",
    "file_names = [file.name for file in directory.glob('*.txt')]\n",
    "\n",
    "chunked_documents = load_text_files_for_encoding(file_names, directory)"
   ]
  },
  {
   "cell_type": "code",
   "execution_count": 164,
   "id": "ddafef5c-7f5c-4425-a5f9-f4d9aad8f3e8",
   "metadata": {},
   "outputs": [],
   "source": [
    "vectorstore_of_docs = FAISS.from_documents(chunked_documents, embedding=embeddings)"
   ]
  },
  {
   "cell_type": "markdown",
   "id": "57ae3064-6635-46cc-92d4-173174400d94",
   "metadata": {},
   "source": [
    "## Test the embeddings"
   ]
  },
  {
   "cell_type": "code",
   "execution_count": 165,
   "id": "83982074-c824-49ff-96e1-c1d2884346cd",
   "metadata": {},
   "outputs": [],
   "source": [
    "related_text = vectorstore_of_docs.similarity_search('narcissism',top_k=3)"
   ]
  },
  {
   "cell_type": "code",
   "execution_count": 166,
   "id": "273d15a3-dbd8-487e-afec-bacb3dbd1f8e",
   "metadata": {},
   "outputs": [
    {
     "data": {
      "text/plain": [
       "[Document(page_content=\"who like her-- the people she has to settle for-- are... not great.Genetics took care of her body but the upbringing affected her vision: the childhood of never good enough filters her present reality, obscures it, she can't see what is plain to everyone else, e.g. she's beautiful. So the process is to uncover the reasons why her view of reality is distorted and help her realign with reality. Use insight to strengthen her damaged ego, or, if you want a ten step approach, block automatic thoughts. In short, to understand that she is good, that men do find her attractive, not just the brazen ones, not just jerks.IV.If you think of narcissism as grandiosity you miss the nuances, e.g. in her case the problem is narcissism without any grandiosity: she is so consumed with her identity (as not pretty) that she is not able to read, to empathize with, other people's feelings. She doesn't care to try because it conflicts with how she sees herself. Ergo: Giorgio Armani was just being nice.I\", metadata={'source': '/home/nick/Documents/repos/llm_playground/data/just_because_you_see_it_doesnt.txt'}),\n",
       " Document(page_content='interesting thing about addictions-- include gambling and sex and internet and \"dangerous behaviors\" and whatever else you want-- is that they all share something in common.\\xa0 Allegedly this thing is dopaminergic pathways to the striatum and etc, but saying that gets you nothing.\\xa0 It\\'s astounding that the layperson chooses to think in these terms which though they are true are utterly meaningless, utterly unactionable, until you remember, oh, of course, in narcissism believing something is preferable to doing something because the former is about you and the latter is about everyone else.Slightly off topic but here\\'s an important example: say you yell every day at an/your eight year old girl for sloppy homework, admittedly a terrible thing to do but not uncommon, and eventually she thinks, \"I\\'m terrible at everything\" and gives up, so the standard interpretation of this is that she has lost self-confidence, she\\'s been demoralized, and case by case you may be right, but there\\'s another', metadata={'source': '/home/nick/Documents/repos/llm_playground/data/amy_schumer_offers_you_a_look.txt'}),\n",
       " Document(page_content=\"so far?\\xa0 Do you think you've understood?You heard the story, you heard the words, but your mind unheard it and replaced it with something else.\\xa0 Even after I tell you this, you'll have trouble remembering it. You think Narcissus was so in love with himself that he couldn't love anyone else.\\xa0 But that's not what happened, the story clearly tells it in the reverse: he never loved anyone and then he fell in love with himself.\\xa0 Do you see?\\xa0 Because he never loved anyone, he fell in love with himself.\\xa0\\xa0 That was Narcissus's punishment.\\xa0 You thought Narcissus rejected all those people because he was in love with himself, but he rejected them all before he loved himself.\\xa0 Loved himself?\\xa0 Do you think Narcissus rejected them because he thought he was better than them?\\xa0 Or better looking?\\xa0 How would he have known he was so beautiful?\\xa0 He didn't even recognize his own reflection!\\xa0 He rejected all those people because they loved him. IV.You thought nemesis meant enemy, you thought it meant the\", metadata={'source': '/home/nick/Documents/repos/llm_playground/data/the_story_of_narcissus.txt'}),\n",
       " Document(page_content='the woods, ensuring that he\\'d someday have cause to do it.\\xa0\\xa0\\xa0 And so when Narcissus\\'s parents heard the requirements for their child\\'s long life... they would have done everything possible to ensure that he didn\\'t know himself.No one knows what Liriope and Cephisus did, but whatever they did, it worked: he didn\\'t even recognize his own reflection.\\xa0 That\\'s a man who doesn\\'t know himself. That\\'s a man who never had to look at himself from the outside.How do you make a child know himself?\\xa0 You surround him with mirrors. \"This is what everyone else sees when you do what you do.\\xa0 This is who everyone thinks you are.\"You cause him to be tested: this is the kind of person you are, you are good at this but not that. This other person is better than you at this, but not better than you at that.\\xa0 These are the limits by which you are defined.\\xa0\\xa0 Narcissus was never allowed to meet real danger, glory, struggle, honor, success, failure; only artificial versions manipulated by his parents.\\xa0\\xa0 He was', metadata={'source': '/home/nick/Documents/repos/llm_playground/data/the_story_of_narcissus.txt'})]"
      ]
     },
     "execution_count": 166,
     "metadata": {},
     "output_type": "execute_result"
    }
   ],
   "source": [
    "related_text"
   ]
  },
  {
   "cell_type": "markdown",
   "id": "9bb634f6-85bb-4fd0-8fe3-ac87c36ee047",
   "metadata": {},
   "source": [
    "## Ask Question with Context"
   ]
  },
  {
   "cell_type": "code",
   "execution_count": 167,
   "id": "8810d42e-2eea-445f-af53-d1190a9f2b74",
   "metadata": {},
   "outputs": [],
   "source": [
    "def ask_ppl(question,\n",
    "            system_prompt=system_prompt,\n",
    "            max_tokens=2048, \n",
    "            model=\"mistral-7b-instruct\",\n",
    "            api_key=PERPLEXITY_API_KEY,\n",
    "           context=False,\n",
    "           top_k=5,\n",
    "           vectorstore=False):\n",
    "    'Ask the perplexity api a question, with or without context, using whichever model you prefer'\n",
    "\n",
    "    if context == True:\n",
    "        # find relevant text and add it to question\n",
    "        related_text = vectorstore.similarity_search(question,top_k)\n",
    "        context = ' / '.join([related_text[i].page_content for i in range(top_k)])\n",
    "        files_used = ','.join(set([related_text[i].metadata['source'] for i in range(top_k)]))\n",
    "        context_string = f'{context} || from the files {files_used}'\n",
    "        # update question string\n",
    "        question =  f'''Use the following pieces of context to answer the question at the end. \n",
    "            Try to make the response brief and only answer the portion after Question:\n",
    "            Do not refer to the text from this prompt outside of the context.\n",
    "            Structure your answers as well composed english sentences and do not include '\\n'\n",
    "            \n",
    "            {context_string}\n",
    "            \n",
    "            Question: {question}\n",
    "            Answer: '''\n",
    "\n",
    "    user_prompt = {\n",
    "        \"role\": \"user\",\n",
    "        \"content\": (\n",
    "           question\n",
    "        ),\n",
    "    }\n",
    "    \n",
    "    message= [\n",
    "            system_prompt,\n",
    "            user_prompt\n",
    "        ]\n",
    "    \n",
    "    response = openai.ChatCompletion.create(\n",
    "        model=model,\n",
    "        messages=message,\n",
    "        max_tokens=max_tokens,\n",
    "        api_base=\"https://api.perplexity.ai\",\n",
    "        api_key=PERPLEXITY_API_KEY,\n",
    "    )\n",
    "\n",
    "    return response['choices'][0]['message']['content']"
   ]
  },
  {
   "cell_type": "code",
   "execution_count": 168,
   "id": "b28df2c6-44b0-4d26-a5de-1ca502f976db",
   "metadata": {},
   "outputs": [],
   "source": [
    "test_query = 'Why is Randi Zuckerberg well known?'"
   ]
  },
  {
   "cell_type": "code",
   "execution_count": 169,
   "id": "f66c4a12-396b-465d-b60d-94e978d5f318",
   "metadata": {},
   "outputs": [
    {
     "data": {
      "text/plain": [
       "'Randi Zuckerberg is well known because she is the sister of Mark Zuckerberg, the founder and CEO of Facebook. She is also an entrepreneur and a philanthropist in her own right, and has been involved in several successful ventures and initiatives. Randi has been featured in numerous media outlets and has been recognized for her work and achievements in the tech industry.'"
      ]
     },
     "execution_count": 169,
     "metadata": {},
     "output_type": "execute_result"
    }
   ],
   "source": [
    "ask_ppl(test_query)"
   ]
  },
  {
   "cell_type": "code",
   "execution_count": 170,
   "id": "8c8aac58-b5cc-4829-8635-58da8f400c9a",
   "metadata": {},
   "outputs": [
    {
     "data": {
      "text/plain": [
       "\"Randi Zuckerberg is well known because she is the CEO of Zuckerberg Media, which was invited to the World Economic Forum at Davos. She also wrote a book about social media and gives interviews. It's important to note that she has not been invited because of nepotism or because of her brother, but because of her own achievements and contributions. The media has recognized her expertise and interested in her opinions, though she believes that anyone who disagrees with her is a hater.\""
      ]
     },
     "execution_count": 170,
     "metadata": {},
     "output_type": "execute_result"
    }
   ],
   "source": [
    "ask_ppl(question=test_query,\n",
    "            system_prompt=system_prompt,\n",
    "            max_tokens=2048, \n",
    "            model=\"mistral-7b-instruct\",\n",
    "            api_key=PERPLEXITY_API_KEY,\n",
    "           context=True,\n",
    "           top_k=5,\n",
    "       vectorstore=vectorstore_of_docs)"
   ]
  },
  {
   "cell_type": "code",
   "execution_count": null,
   "id": "7f6cd294-ec50-4fb5-b6f6-9c5036f098b1",
   "metadata": {},
   "outputs": [],
   "source": [
    "ask_ppl(question=test_query,\n",
    "            system_prompt=system_prompt,\n",
    "            max_tokens=2048, \n",
    "            model=\"llama-2-70b-chat\",\n",
    "            api_key=PERPLEXITY_API_KEY,\n",
    "           context=True,\n",
    "           top_k=5,\n",
    "       vectorstore=vectorstore_of_docs)"
   ]
  },
  {
   "cell_type": "code",
   "execution_count": 173,
   "id": "f2be584e-daa6-44ea-a87d-03f91c06825e",
   "metadata": {},
   "outputs": [],
   "source": [
    "test_query_2 = \"what is narcissism, according to the Last Psychiatrist?\""
   ]
  },
  {
   "cell_type": "code",
   "execution_count": 174,
   "id": "0e773d70-2fe8-407a-aab7-7e8a75b73cae",
   "metadata": {},
   "outputs": [
    {
     "data": {
      "text/plain": [
       "\"According to the Last Psychiatrist, narcissism is a pathology characterized by identity preservation and the inability to see things from the other person's perspective. The pathology's Number 1 characteristic is identity preservation, which means the person wants to remain the same, even if it is the cause of their problems. The identity they've chosen is often the source of their downfall, as it is not adaptable to reality. The Number 2 characteristic of narcissism is the inability to see things from the other person's perspective. The punishment of narcissism is that the person ultimately falls in love with themselves, even though they may have never loved anyone else. The story of Narcissus serves as a warning of the dangers of narcissism, as it shows how the person can be consumed by their own loves and desires, leading to destruction.\""
      ]
     },
     "execution_count": 174,
     "metadata": {},
     "output_type": "execute_result"
    }
   ],
   "source": [
    "ask_ppl(question=test_query_2,\n",
    "            system_prompt=system_prompt,\n",
    "            max_tokens=2048, \n",
    "            model=\"mistral-7b-instruct\",\n",
    "            api_key=PERPLEXITY_API_KEY,\n",
    "           context=True,\n",
    "           top_k=5,\n",
    "       vectorstore=vectorstore_of_docs)"
   ]
  },
  {
   "cell_type": "code",
   "execution_count": 175,
   "id": "b6dc44cd-2432-4a91-b36b-d3c2f5a4c601",
   "metadata": {},
   "outputs": [
    {
     "data": {
      "text/plain": [
       "\"According to the Last Psychiatrist, narcissism is a pathology characterized by an inability to see things from other people's perspectives, a need to maintain a particular identity, and a tendency to reject others who do not mirror one's own desires. It is also associated with a lack of self-awareness and a tendency to blame external factors for one's own problems. The Last Psychiatrist suggests that narcissism is often treated in a way that reinforces the narcissist's existing beliefs and behaviors, rather than challenging them to change.\""
      ]
     },
     "execution_count": 175,
     "metadata": {},
     "output_type": "execute_result"
    }
   ],
   "source": [
    "ask_ppl(question=test_query_2,\n",
    "            system_prompt=system_prompt,\n",
    "            max_tokens=2048, \n",
    "            model=\"llama-2-70b-chat\",\n",
    "            api_key=PERPLEXITY_API_KEY,\n",
    "           context=True,\n",
    "           top_k=5,\n",
    "       vectorstore=vectorstore_of_docs)"
   ]
  }
 ],
 "metadata": {
  "kernelspec": {
   "display_name": "Python 3 (ipykernel)",
   "language": "python",
   "name": "python3"
  },
  "language_info": {
   "codemirror_mode": {
    "name": "ipython",
    "version": 3
   },
   "file_extension": ".py",
   "mimetype": "text/x-python",
   "name": "python",
   "nbconvert_exporter": "python",
   "pygments_lexer": "ipython3",
   "version": "3.8.10"
  }
 },
 "nbformat": 4,
 "nbformat_minor": 5
}
