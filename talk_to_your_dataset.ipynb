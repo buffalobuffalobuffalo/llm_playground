{
 "cells": [
  {
   "cell_type": "markdown",
   "id": "958d2e8b-262a-4fba-a756-5ac1b0cc0ce5",
   "metadata": {},
   "source": [
    "# Talk to your dataset - llama-index\n",
    "- [youtube link](https://www.youtube.com/watch?v=WL7V9JUy2sE)\n",
    "- [google collab](https://colab.research.google.com/drive/1F-4r976AhCYmH9lK89S4t_dEAqcqho0S#scrollTo=wwiMDG-2Z3je)"
   ]
  },
  {
   "cell_type": "code",
   "execution_count": 1,
   "id": "249121df-95c3-47e0-9f91-b01d367c340b",
   "metadata": {},
   "outputs": [],
   "source": [
    "import requests\n",
    "import html\n",
    "import os\n",
    "from bs4 import BeautifulSoup\n",
    "\n",
    "from llama_index.llms import OpenAI\n",
    "from llama_index import VectorStoreIndex, SimpleDirectoryReader\n",
    "from IPython.display import Markdown, display"
   ]
  },
  {
   "cell_type": "markdown",
   "id": "58384984-34bf-46db-9577-bf56923f0338",
   "metadata": {},
   "source": [
    "# Scrape a couple files from the last psychiatrist for documents"
   ]
  },
  {
   "cell_type": "markdown",
   "id": "007ae69c-d97f-4557-805d-4246b84e9f6b",
   "metadata": {},
   "source": [
    "## 1. Get the list of urls"
   ]
  },
  {
   "cell_type": "code",
   "execution_count": 2,
   "id": "469721b2-0a59-4415-b01c-30fd0eae17f2",
   "metadata": {},
   "outputs": [],
   "source": [
    "url = \"https://thelastpsychiatrist.com/archives.html\"\n",
    "response = requests.get(url)\n",
    "soup = BeautifulSoup(response.content, \"html.parser\")\n",
    "article_links = [a[\"href\"] for a in soup.select(\"a[href^='/2']\")[:10]]"
   ]
  },
  {
   "cell_type": "code",
   "execution_count": 3,
   "id": "61e481b4-6ea0-44b0-8d88-a9114fd88e39",
   "metadata": {},
   "outputs": [],
   "source": [
    "article_links = [a[\"href\"] for a in soup.select(\"li.archive-list-item a\")]"
   ]
  },
  {
   "cell_type": "code",
   "execution_count": 4,
   "id": "83da5460-39dd-440a-9c83-8448b0ac1620",
   "metadata": {},
   "outputs": [
    {
     "data": {
      "text/plain": [
       "['https://thelastpsychiatrist.com/2014/05/cyberbll.html',\n",
       " 'https://thelastpsychiatrist.com/2014/04/the_maintenance_of_certificati.html',\n",
       " 'https://thelastpsychiatrist.com/2014/03/ten_extra_seconds_would_have_s.html',\n",
       " 'https://thelastpsychiatrist.com/2014/03/true_detectives_detective.html',\n",
       " 'https://thelastpsychiatrist.com/2014/03/who_can_know_how_much_randi_zu.html']"
      ]
     },
     "execution_count": 4,
     "metadata": {},
     "output_type": "execute_result"
    }
   ],
   "source": [
    "article_links[:5]"
   ]
  },
  {
   "cell_type": "code",
   "execution_count": 5,
   "id": "dcccdfb9-9ab8-4480-9342-573fdb9b6bbc",
   "metadata": {},
   "outputs": [
    {
     "data": {
      "text/plain": [
       "817"
      ]
     },
     "execution_count": 5,
     "metadata": {},
     "output_type": "execute_result"
    }
   ],
   "source": [
    "len(article_links)"
   ]
  },
  {
   "cell_type": "markdown",
   "id": "36973499-0767-404b-b2c9-5e93da7da3a7",
   "metadata": {},
   "source": [
    "## 2. Pull in the text of each article separately"
   ]
  },
  {
   "cell_type": "code",
   "execution_count": 21,
   "id": "e7dd94ed-64c6-4bb4-95bc-6e6b336a864e",
   "metadata": {},
   "outputs": [],
   "source": [
    "articles_dict = {}"
   ]
  },
  {
   "cell_type": "code",
   "execution_count": 22,
   "id": "e3728710-0c8b-4d3f-9649-893d61768635",
   "metadata": {},
   "outputs": [],
   "source": [
    "for article_url in article_links[:50]:\n",
    "    # Fetch the page content\n",
    "    response = requests.get(article_url)\n",
    "    \n",
    "    # TODO figure out a way to pull the full titles\n",
    "    title = article_url.split(\"/\")[-1].replace('.html','')\n",
    "    \n",
    "    # create the soup\n",
    "    soup = BeautifulSoup(response.content, \"html.parser\")\n",
    "    \n",
    "    # Extract the test of the article\n",
    "    content = soup.find(\"div\", {\"class\": \"entry-more\", \"id\": \"more\"}).text\n",
    "    \n",
    "    articles_dict[title] = readable_text"
   ]
  },
  {
   "cell_type": "markdown",
   "id": "ad65d389-46b2-4f4c-b448-56570cbbd227",
   "metadata": {},
   "source": [
    "## 3. Test the output was captured correctly"
   ]
  },
  {
   "cell_type": "code",
   "execution_count": 23,
   "id": "955fb6fc-4367-4d27-a30a-e7c5c8074e50",
   "metadata": {},
   "outputs": [
    {
     "data": {
      "text/plain": [
       "dict_keys(['cyberbll', 'the_maintenance_of_certificati', 'ten_extra_seconds_would_have_s', 'true_detectives_detective', 'who_can_know_how_much_randi_zu', 'randi_zuckerberg', 'hunger_games_catching_fire_bad', 'how_does_the_shutdown_relate_t', 'real_men_want_to_drink_guinnes', 'still_alive', 'dove', 'dont_hate_her_because_shes_suc', 'no_self-respecting_woman_would', 'product_review_panasonic_pt_ax', 'funeral', 'temper_tantrums_in_the_dsm', 'hipsters_on_food_stamps_part_2', 'hipsters_on_food_stamps', 'the_story_of_narcissus', 'whos_afraid_of_lil_wayne', 'fox_friends_punked_by_obama_su', 'the_harvard_cheating_scandal_i', 'paul_ryan_vs_rage_against_the', 'just_because_you_see_it_doesnt', 'the_second_story_of_echo_and_n', 'amy_schumer_offers_you_a_look', '5_signs_your_child_is_a_psycho', 'are_you_mom_enough', 'thank_god_the_heart_attack_gri', 'why_we_love_sociopaths', 'the_hunger_games_is_sexist_fai', 'whats_wrong_with_the_hunger_ga_1', 'shame_is_the_desired_outcome', 'shame', 'the_father_that_shot_his_daugh', 'my_fiancee_is_pushing_me_away', 'pedophilia_is_normal_because_o', 'another_honor_killing_that_isn', 'what_would_you_do_if_your_fian_1', 'what_would_you_do_if_your_fian', 'supermans_a_baby_but_hes_still', 'couple_reveals_childs_gender_f', 'the_next_step_for_ssi', 'sara_ackerman_is_both_a_nut_an', 'ocean_marketing_markets_obama', 'penelope_trunk_abuser', 'wolf_dad_tiger_mom_and_why_try', 'whats_the_difference_between_a', 'short_film_bad_at_math', 'if_you_liked_the_descendants_y'])"
      ]
     },
     "execution_count": 23,
     "metadata": {},
     "output_type": "execute_result"
    }
   ],
   "source": [
    "articles_dict.keys()"
   ]
  },
  {
   "cell_type": "code",
   "execution_count": 30,
   "id": "5b660e36-9c4e-48ff-8b06-52119578b56c",
   "metadata": {},
   "outputs": [
    {
     "name": "stdout",
     "output_type": "stream",
     "text": [
      "\n",
      "\"Has Time Gone To Far?\"  \"Time Cover Causes Controversy.\"  I heard people are actually offended by this cover.  Which is worse, seeing this or a picture of two gays kissing?  No, two gay women, of course, come on, don't be stupid.  Alright, fine, bu\n"
     ]
    }
   ],
   "source": [
    "print(articles_dict['are_you_mom_enough'][:250])"
   ]
  },
  {
   "cell_type": "markdown",
   "id": "bee19af0-2ea1-4b5d-9d37-03efd7a26cf9",
   "metadata": {},
   "source": [
    "## Save these files to documents folder"
   ]
  },
  {
   "cell_type": "markdown",
   "id": "a7ebfe93-f3f3-4eaf-845f-f810508afe92",
   "metadata": {},
   "source": [
    "## 1. test one"
   ]
  },
  {
   "cell_type": "code",
   "execution_count": 11,
   "id": "31997810-9774-488d-970c-c2e0b3da1289",
   "metadata": {},
   "outputs": [
    {
     "data": {
      "text/plain": [
       "'who_can_know_how_much_randi_zu'"
      ]
     },
     "execution_count": 11,
     "metadata": {},
     "output_type": "execute_result"
    }
   ],
   "source": [
    "list(articles_dict.keys())[4]"
   ]
  },
  {
   "cell_type": "code",
   "execution_count": 32,
   "id": "f704bd90-10f9-4d8c-94aa-e23be9ac2c6a",
   "metadata": {},
   "outputs": [],
   "source": [
    "title_of_article = 'who_can_know_how_much_randi_zu'\n",
    "title_of_file = open(f'{title_of_article}.txt', 'w')\n",
    "file_path = os.path.join('data', f'{title_of_article}.txt')\n",
    "\n",
    "with open(file_path, 'w') as title_of_file:\n",
    "    title_of_file.write(articles_dict[title_of_article])"
   ]
  },
  {
   "cell_type": "markdown",
   "id": "c58ad847-dbfb-4923-8f91-9caebabe8a4b",
   "metadata": {},
   "source": [
    "## Query the document"
   ]
  },
  {
   "cell_type": "code",
   "execution_count": 5,
   "id": "c623b570-bd87-4c42-9bbb-3d386a20c8ab",
   "metadata": {},
   "outputs": [],
   "source": [
    "## add your key here and THEN DELETE IT BEFORE SAVING\n",
    "#OPENAI_API_KEY=''"
   ]
  },
  {
   "cell_type": "code",
   "execution_count": 6,
   "id": "b0738cee-3dad-4061-b2d0-807089d946e1",
   "metadata": {},
   "outputs": [],
   "source": [
    "documents = SimpleDirectoryReader(\"data\").load_data()"
   ]
  },
  {
   "cell_type": "markdown",
   "id": "542c234c-dc6d-4a5f-9034-87eca6872e40",
   "metadata": {},
   "source": [
    "## RAN INTO ISSUES HERE WITH RATE LIMIT - INVESTIGATE TOMORROW"
   ]
  },
  {
   "cell_type": "code",
   "execution_count": null,
   "id": "e70193ed-3e28-4f42-a76d-350a944c5ed5",
   "metadata": {},
   "outputs": [],
   "source": [
    "index = VectorStoreIndex.from_documents(documents)"
   ]
  },
  {
   "cell_type": "code",
   "execution_count": null,
   "id": "7ba2436f-24f1-41af-adff-7eeb66d61135",
   "metadata": {},
   "outputs": [],
   "source": [
    "query_engine = index.as_query_engine()"
   ]
  },
  {
   "cell_type": "markdown",
   "id": "b878c0dc-344c-4202-bf93-3c38f995a450",
   "metadata": {},
   "source": [
    "## Ask Questions"
   ]
  },
  {
   "cell_type": "code",
   "execution_count": null,
   "id": "fccdad3c-194c-47dc-807b-9bc9661766b6",
   "metadata": {},
   "outputs": [],
   "source": [
    "response = query_engine.query(f\"{question\")"
   ]
  }
 ],
 "metadata": {
  "kernelspec": {
   "display_name": "Python 3 (ipykernel)",
   "language": "python",
   "name": "python3"
  },
  "language_info": {
   "codemirror_mode": {
    "name": "ipython",
    "version": 3
   },
   "file_extension": ".py",
   "mimetype": "text/x-python",
   "name": "python",
   "nbconvert_exporter": "python",
   "pygments_lexer": "ipython3",
   "version": "3.8.10"
  }
 },
 "nbformat": 4,
 "nbformat_minor": 5
}
